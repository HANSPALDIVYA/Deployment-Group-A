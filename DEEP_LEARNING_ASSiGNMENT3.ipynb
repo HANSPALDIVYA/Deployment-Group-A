{
 "cells": [
  {
   "cell_type": "code",
   "execution_count": 2,
   "id": "1b910929-a57b-4dd4-8055-fcf8dc3f2cfc",
   "metadata": {
    "id": "1b910929-a57b-4dd4-8055-fcf8dc3f2cfc"
   },
   "outputs": [],
   "source": [
    "import pandas as pd\n",
    "import numpy as np\n",
    "import matplotlib.pyplot as plt\n",
    "import warnings\n",
    "\n",
    "warnings.filterwarnings('ignore')"
   ]
  },
  {
   "cell_type": "code",
   "execution_count": 33,
   "id": "78956ded-d0e8-4281-b0dd-91bb1b8f2fe5",
   "metadata": {
    "id": "78956ded-d0e8-4281-b0dd-91bb1b8f2fe5"
   },
   "outputs": [],
   "source": [
    "from sklearn.model_selection import train_test_split\n",
    "from sklearn.preprocessing import StandardScaler, OneHotEncoder\n",
    "from sklearn.impute import SimpleImputer\n",
    "from sklearn.compose import ColumnTransformer\n",
    "from sklearn.decomposition import PCA, TruncatedSVD\n",
    "from sklearn.feature_selection import SelectKBest, f_classif\n",
    "from sklearn.svm import SVC\n",
    "from sklearn.pipeline import Pipeline\n",
    "from sklearn.metrics import accuracy_score, classification_report\n",
    "from sklearn.metrics import confusion_matrix, ConfusionMatrixDisplay\n",
    "from sklearn.ensemble import RandomForestClassifier\n",
    "from sklearn.model_selection import RandomizedSearchCV\n",
    "from imblearn.over_sampling import SMOTE, ADASYN\n",
    "from scipy.stats import uniform\n",
    "import joblib\n"
   ]
  },
  {
   "cell_type": "code",
   "execution_count": 4,
   "id": "75cf73c7-0672-4bcf-8ebd-191d46fa73d3",
   "metadata": {
    "id": "75cf73c7-0672-4bcf-8ebd-191d46fa73d3"
   },
   "outputs": [],
   "source": [
    "data = pd.read_csv('bank_data_train.csv')\n",
    "data = data.set_index('ID').sort_index(axis=1)"
   ]
  },
  {
   "cell_type": "code",
   "execution_count": 4,
   "id": "ff84c5b3-7efb-47a2-ac64-80a53b299fbb",
   "metadata": {
    "colab": {
     "base_uri": "https://localhost:8080/",
     "height": 287
    },
    "id": "ff84c5b3-7efb-47a2-ac64-80a53b299fbb",
    "outputId": "3f0a80d2-64f2-4535-be8f-84a7d278f108"
   },
   "outputs": [
    {
     "data": {
      "text/html": [
       "<div>\n",
       "<style scoped>\n",
       "    .dataframe tbody tr th:only-of-type {\n",
       "        vertical-align: middle;\n",
       "    }\n",
       "\n",
       "    .dataframe tbody tr th {\n",
       "        vertical-align: top;\n",
       "    }\n",
       "\n",
       "    .dataframe thead th {\n",
       "        text-align: right;\n",
       "    }\n",
       "</style>\n",
       "<table border=\"1\" class=\"dataframe\">\n",
       "  <thead>\n",
       "    <tr style=\"text-align: right;\">\n",
       "      <th></th>\n",
       "      <th>AGE</th>\n",
       "      <th>AMOUNT_RUB_ATM_PRC</th>\n",
       "      <th>AMOUNT_RUB_CLO_PRC</th>\n",
       "      <th>AMOUNT_RUB_NAS_PRC</th>\n",
       "      <th>AMOUNT_RUB_SUP_PRC</th>\n",
       "      <th>APP_CAR</th>\n",
       "      <th>APP_COMP_TYPE</th>\n",
       "      <th>APP_DRIVING_LICENSE</th>\n",
       "      <th>APP_EDUCATION</th>\n",
       "      <th>APP_EMP_TYPE</th>\n",
       "      <th>...</th>\n",
       "      <th>TURNOVER_CC</th>\n",
       "      <th>TURNOVER_DYNAMIC_CC_1M</th>\n",
       "      <th>TURNOVER_DYNAMIC_CC_3M</th>\n",
       "      <th>TURNOVER_DYNAMIC_CUR_1M</th>\n",
       "      <th>TURNOVER_DYNAMIC_CUR_3M</th>\n",
       "      <th>TURNOVER_DYNAMIC_IL_1M</th>\n",
       "      <th>TURNOVER_DYNAMIC_IL_3M</th>\n",
       "      <th>TURNOVER_DYNAMIC_PAYM_1M</th>\n",
       "      <th>TURNOVER_DYNAMIC_PAYM_3M</th>\n",
       "      <th>TURNOVER_PAYM</th>\n",
       "    </tr>\n",
       "    <tr>\n",
       "      <th>ID</th>\n",
       "      <th></th>\n",
       "      <th></th>\n",
       "      <th></th>\n",
       "      <th></th>\n",
       "      <th></th>\n",
       "      <th></th>\n",
       "      <th></th>\n",
       "      <th></th>\n",
       "      <th></th>\n",
       "      <th></th>\n",
       "      <th></th>\n",
       "      <th></th>\n",
       "      <th></th>\n",
       "      <th></th>\n",
       "      <th></th>\n",
       "      <th></th>\n",
       "      <th></th>\n",
       "      <th></th>\n",
       "      <th></th>\n",
       "      <th></th>\n",
       "      <th></th>\n",
       "    </tr>\n",
       "  </thead>\n",
       "  <tbody>\n",
       "    <tr>\n",
       "      <th>146841</th>\n",
       "      <td>660</td>\n",
       "      <td>1.000000</td>\n",
       "      <td>0.000000</td>\n",
       "      <td>0.0</td>\n",
       "      <td>0.000000</td>\n",
       "      <td>NaN</td>\n",
       "      <td>NaN</td>\n",
       "      <td>NaN</td>\n",
       "      <td>NaN</td>\n",
       "      <td>NaN</td>\n",
       "      <td>...</td>\n",
       "      <td>0.0</td>\n",
       "      <td>0.0</td>\n",
       "      <td>0.0</td>\n",
       "      <td>0.131910</td>\n",
       "      <td>0.442285</td>\n",
       "      <td>0.0</td>\n",
       "      <td>0.0</td>\n",
       "      <td>0.0</td>\n",
       "      <td>0.0</td>\n",
       "      <td>0.0</td>\n",
       "    </tr>\n",
       "    <tr>\n",
       "      <th>146842</th>\n",
       "      <td>552</td>\n",
       "      <td>0.410691</td>\n",
       "      <td>0.041033</td>\n",
       "      <td>0.0</td>\n",
       "      <td>0.244678</td>\n",
       "      <td>NaN</td>\n",
       "      <td>NaN</td>\n",
       "      <td>NaN</td>\n",
       "      <td>NaN</td>\n",
       "      <td>NaN</td>\n",
       "      <td>...</td>\n",
       "      <td>0.0</td>\n",
       "      <td>0.0</td>\n",
       "      <td>0.0</td>\n",
       "      <td>0.101934</td>\n",
       "      <td>0.515876</td>\n",
       "      <td>0.0</td>\n",
       "      <td>0.0</td>\n",
       "      <td>0.0</td>\n",
       "      <td>0.0</td>\n",
       "      <td>0.0</td>\n",
       "    </tr>\n",
       "    <tr>\n",
       "      <th>146843</th>\n",
       "      <td>420</td>\n",
       "      <td>0.925140</td>\n",
       "      <td>0.006915</td>\n",
       "      <td>0.0</td>\n",
       "      <td>0.000000</td>\n",
       "      <td>NaN</td>\n",
       "      <td>NaN</td>\n",
       "      <td>NaN</td>\n",
       "      <td>NaN</td>\n",
       "      <td>NaN</td>\n",
       "      <td>...</td>\n",
       "      <td>0.0</td>\n",
       "      <td>0.0</td>\n",
       "      <td>0.0</td>\n",
       "      <td>0.121041</td>\n",
       "      <td>0.522833</td>\n",
       "      <td>0.0</td>\n",
       "      <td>0.0</td>\n",
       "      <td>0.0</td>\n",
       "      <td>0.0</td>\n",
       "      <td>0.0</td>\n",
       "    </tr>\n",
       "    <tr>\n",
       "      <th>146844</th>\n",
       "      <td>372</td>\n",
       "      <td>1.000000</td>\n",
       "      <td>0.000000</td>\n",
       "      <td>0.0</td>\n",
       "      <td>0.000000</td>\n",
       "      <td>NaN</td>\n",
       "      <td>NaN</td>\n",
       "      <td>NaN</td>\n",
       "      <td>NaN</td>\n",
       "      <td>NaN</td>\n",
       "      <td>...</td>\n",
       "      <td>0.0</td>\n",
       "      <td>0.0</td>\n",
       "      <td>0.0</td>\n",
       "      <td>0.000005</td>\n",
       "      <td>0.000189</td>\n",
       "      <td>0.0</td>\n",
       "      <td>0.0</td>\n",
       "      <td>0.0</td>\n",
       "      <td>0.0</td>\n",
       "      <td>0.0</td>\n",
       "    </tr>\n",
       "    <tr>\n",
       "      <th>146845</th>\n",
       "      <td>288</td>\n",
       "      <td>1.000000</td>\n",
       "      <td>0.000000</td>\n",
       "      <td>0.0</td>\n",
       "      <td>0.000000</td>\n",
       "      <td>NaN</td>\n",
       "      <td>NaN</td>\n",
       "      <td>NaN</td>\n",
       "      <td>NaN</td>\n",
       "      <td>NaN</td>\n",
       "      <td>...</td>\n",
       "      <td>0.0</td>\n",
       "      <td>0.0</td>\n",
       "      <td>0.0</td>\n",
       "      <td>0.177869</td>\n",
       "      <td>0.593648</td>\n",
       "      <td>0.0</td>\n",
       "      <td>0.0</td>\n",
       "      <td>0.0</td>\n",
       "      <td>0.0</td>\n",
       "      <td>0.0</td>\n",
       "    </tr>\n",
       "  </tbody>\n",
       "</table>\n",
       "<p>5 rows × 115 columns</p>\n",
       "</div>"
      ],
      "text/plain": [
       "        AGE  AMOUNT_RUB_ATM_PRC  AMOUNT_RUB_CLO_PRC  AMOUNT_RUB_NAS_PRC  \\\n",
       "ID                                                                        \n",
       "146841  660            1.000000            0.000000                 0.0   \n",
       "146842  552            0.410691            0.041033                 0.0   \n",
       "146843  420            0.925140            0.006915                 0.0   \n",
       "146844  372            1.000000            0.000000                 0.0   \n",
       "146845  288            1.000000            0.000000                 0.0   \n",
       "\n",
       "        AMOUNT_RUB_SUP_PRC APP_CAR APP_COMP_TYPE APP_DRIVING_LICENSE  \\\n",
       "ID                                                                     \n",
       "146841            0.000000     NaN           NaN                 NaN   \n",
       "146842            0.244678     NaN           NaN                 NaN   \n",
       "146843            0.000000     NaN           NaN                 NaN   \n",
       "146844            0.000000     NaN           NaN                 NaN   \n",
       "146845            0.000000     NaN           NaN                 NaN   \n",
       "\n",
       "       APP_EDUCATION APP_EMP_TYPE  ... TURNOVER_CC TURNOVER_DYNAMIC_CC_1M  \\\n",
       "ID                                 ...                                      \n",
       "146841           NaN          NaN  ...         0.0                    0.0   \n",
       "146842           NaN          NaN  ...         0.0                    0.0   \n",
       "146843           NaN          NaN  ...         0.0                    0.0   \n",
       "146844           NaN          NaN  ...         0.0                    0.0   \n",
       "146845           NaN          NaN  ...         0.0                    0.0   \n",
       "\n",
       "       TURNOVER_DYNAMIC_CC_3M  TURNOVER_DYNAMIC_CUR_1M  \\\n",
       "ID                                                       \n",
       "146841                    0.0                 0.131910   \n",
       "146842                    0.0                 0.101934   \n",
       "146843                    0.0                 0.121041   \n",
       "146844                    0.0                 0.000005   \n",
       "146845                    0.0                 0.177869   \n",
       "\n",
       "       TURNOVER_DYNAMIC_CUR_3M  TURNOVER_DYNAMIC_IL_1M  \\\n",
       "ID                                                       \n",
       "146841                0.442285                     0.0   \n",
       "146842                0.515876                     0.0   \n",
       "146843                0.522833                     0.0   \n",
       "146844                0.000189                     0.0   \n",
       "146845                0.593648                     0.0   \n",
       "\n",
       "        TURNOVER_DYNAMIC_IL_3M TURNOVER_DYNAMIC_PAYM_1M  \\\n",
       "ID                                                        \n",
       "146841                     0.0                      0.0   \n",
       "146842                     0.0                      0.0   \n",
       "146843                     0.0                      0.0   \n",
       "146844                     0.0                      0.0   \n",
       "146845                     0.0                      0.0   \n",
       "\n",
       "       TURNOVER_DYNAMIC_PAYM_3M  TURNOVER_PAYM  \n",
       "ID                                              \n",
       "146841                      0.0            0.0  \n",
       "146842                      0.0            0.0  \n",
       "146843                      0.0            0.0  \n",
       "146844                      0.0            0.0  \n",
       "146845                      0.0            0.0  \n",
       "\n",
       "[5 rows x 115 columns]"
      ]
     },
     "execution_count": 4,
     "metadata": {},
     "output_type": "execute_result"
    }
   ],
   "source": [
    "data.head()"
   ]
  },
  {
   "cell_type": "code",
   "execution_count": 5,
   "id": "a5abd9a0-be52-47d5-a103-2f148998e112",
   "metadata": {
    "colab": {
     "base_uri": "https://localhost:8080/",
     "height": 350
    },
    "id": "a5abd9a0-be52-47d5-a103-2f148998e112",
    "outputId": "3921b7d7-bbc6-40be-a739-8d5ba5a85cc7"
   },
   "outputs": [
    {
     "data": {
      "text/html": [
       "<div>\n",
       "<style scoped>\n",
       "    .dataframe tbody tr th:only-of-type {\n",
       "        vertical-align: middle;\n",
       "    }\n",
       "\n",
       "    .dataframe tbody tr th {\n",
       "        vertical-align: top;\n",
       "    }\n",
       "\n",
       "    .dataframe thead th {\n",
       "        text-align: right;\n",
       "    }\n",
       "</style>\n",
       "<table border=\"1\" class=\"dataframe\">\n",
       "  <thead>\n",
       "    <tr style=\"text-align: right;\">\n",
       "      <th></th>\n",
       "      <th>AGE</th>\n",
       "      <th>AMOUNT_RUB_ATM_PRC</th>\n",
       "      <th>AMOUNT_RUB_CLO_PRC</th>\n",
       "      <th>AMOUNT_RUB_NAS_PRC</th>\n",
       "      <th>AMOUNT_RUB_SUP_PRC</th>\n",
       "      <th>APP_REGISTR_RGN_CODE</th>\n",
       "      <th>AVG_PCT_DEBT_TO_DEAL_AMT</th>\n",
       "      <th>AVG_PCT_MONTH_TO_PCLOSE</th>\n",
       "      <th>CLNT_SALARY_VALUE</th>\n",
       "      <th>CLNT_SETUP_TENOR</th>\n",
       "      <th>...</th>\n",
       "      <th>TURNOVER_CC</th>\n",
       "      <th>TURNOVER_DYNAMIC_CC_1M</th>\n",
       "      <th>TURNOVER_DYNAMIC_CC_3M</th>\n",
       "      <th>TURNOVER_DYNAMIC_CUR_1M</th>\n",
       "      <th>TURNOVER_DYNAMIC_CUR_3M</th>\n",
       "      <th>TURNOVER_DYNAMIC_IL_1M</th>\n",
       "      <th>TURNOVER_DYNAMIC_IL_3M</th>\n",
       "      <th>TURNOVER_DYNAMIC_PAYM_1M</th>\n",
       "      <th>TURNOVER_DYNAMIC_PAYM_3M</th>\n",
       "      <th>TURNOVER_PAYM</th>\n",
       "    </tr>\n",
       "  </thead>\n",
       "  <tbody>\n",
       "    <tr>\n",
       "      <th>count</th>\n",
       "      <td>355190.000000</td>\n",
       "      <td>316867.000000</td>\n",
       "      <td>316867.000000</td>\n",
       "      <td>316867.000000</td>\n",
       "      <td>316867.000000</td>\n",
       "      <td>60550.000000</td>\n",
       "      <td>1888.000000</td>\n",
       "      <td>1628.000000</td>\n",
       "      <td>712.000000</td>\n",
       "      <td>355190.000000</td>\n",
       "      <td>...</td>\n",
       "      <td>3.551900e+05</td>\n",
       "      <td>355190.000000</td>\n",
       "      <td>355190.000000</td>\n",
       "      <td>355190.000000</td>\n",
       "      <td>355190.000000</td>\n",
       "      <td>355190.000000</td>\n",
       "      <td>355190.000000</td>\n",
       "      <td>355190.000000</td>\n",
       "      <td>355190.000000</td>\n",
       "      <td>3.551900e+05</td>\n",
       "    </tr>\n",
       "    <tr>\n",
       "      <th>mean</th>\n",
       "      <td>457.148073</td>\n",
       "      <td>0.598252</td>\n",
       "      <td>0.044045</td>\n",
       "      <td>0.023971</td>\n",
       "      <td>0.085249</td>\n",
       "      <td>50.947498</td>\n",
       "      <td>0.322192</td>\n",
       "      <td>-2.673593</td>\n",
       "      <td>37060.533806</td>\n",
       "      <td>4.377001</td>\n",
       "      <td>...</td>\n",
       "      <td>4.963772e+02</td>\n",
       "      <td>0.000883</td>\n",
       "      <td>0.004309</td>\n",
       "      <td>0.204254</td>\n",
       "      <td>0.484825</td>\n",
       "      <td>0.001305</td>\n",
       "      <td>0.003976</td>\n",
       "      <td>0.025108</td>\n",
       "      <td>0.071906</td>\n",
       "      <td>1.446766e+04</td>\n",
       "    </tr>\n",
       "    <tr>\n",
       "      <th>std</th>\n",
       "      <td>136.435457</td>\n",
       "      <td>0.363546</td>\n",
       "      <td>0.108449</td>\n",
       "      <td>0.090774</td>\n",
       "      <td>0.142310</td>\n",
       "      <td>21.777855</td>\n",
       "      <td>0.363298</td>\n",
       "      <td>4.516854</td>\n",
       "      <td>55084.111834</td>\n",
       "      <td>2.936530</td>\n",
       "      <td>...</td>\n",
       "      <td>1.234083e+04</td>\n",
       "      <td>0.027321</td>\n",
       "      <td>0.059852</td>\n",
       "      <td>0.254973</td>\n",
       "      <td>0.331606</td>\n",
       "      <td>0.029118</td>\n",
       "      <td>0.052736</td>\n",
       "      <td>0.104482</td>\n",
       "      <td>0.206863</td>\n",
       "      <td>1.459378e+05</td>\n",
       "    </tr>\n",
       "    <tr>\n",
       "      <th>min</th>\n",
       "      <td>168.000000</td>\n",
       "      <td>0.000000</td>\n",
       "      <td>0.000000</td>\n",
       "      <td>0.000000</td>\n",
       "      <td>0.000000</td>\n",
       "      <td>0.000000</td>\n",
       "      <td>0.000000</td>\n",
       "      <td>-33.623656</td>\n",
       "      <td>0.750000</td>\n",
       "      <td>0.345592</td>\n",
       "      <td>...</td>\n",
       "      <td>0.000000e+00</td>\n",
       "      <td>0.000000</td>\n",
       "      <td>0.000000</td>\n",
       "      <td>0.000000</td>\n",
       "      <td>0.000000</td>\n",
       "      <td>0.000000</td>\n",
       "      <td>0.000000</td>\n",
       "      <td>0.000000</td>\n",
       "      <td>0.000000</td>\n",
       "      <td>0.000000e+00</td>\n",
       "    </tr>\n",
       "    <tr>\n",
       "      <th>25%</th>\n",
       "      <td>348.000000</td>\n",
       "      <td>0.268672</td>\n",
       "      <td>0.000000</td>\n",
       "      <td>0.000000</td>\n",
       "      <td>0.000000</td>\n",
       "      <td>33.000000</td>\n",
       "      <td>0.000000</td>\n",
       "      <td>-3.227529</td>\n",
       "      <td>10178.715000</td>\n",
       "      <td>1.781187</td>\n",
       "      <td>...</td>\n",
       "      <td>0.000000e+00</td>\n",
       "      <td>0.000000</td>\n",
       "      <td>0.000000</td>\n",
       "      <td>0.014579</td>\n",
       "      <td>0.218582</td>\n",
       "      <td>0.000000</td>\n",
       "      <td>0.000000</td>\n",
       "      <td>0.000000</td>\n",
       "      <td>0.000000</td>\n",
       "      <td>0.000000e+00</td>\n",
       "    </tr>\n",
       "    <tr>\n",
       "      <th>50%</th>\n",
       "      <td>432.000000</td>\n",
       "      <td>0.689935</td>\n",
       "      <td>0.000000</td>\n",
       "      <td>0.000000</td>\n",
       "      <td>0.027117</td>\n",
       "      <td>54.000000</td>\n",
       "      <td>0.089863</td>\n",
       "      <td>-0.941628</td>\n",
       "      <td>19396.330000</td>\n",
       "      <td>3.894098</td>\n",
       "      <td>...</td>\n",
       "      <td>0.000000e+00</td>\n",
       "      <td>0.000000</td>\n",
       "      <td>0.000000</td>\n",
       "      <td>0.127528</td>\n",
       "      <td>0.494372</td>\n",
       "      <td>0.000000</td>\n",
       "      <td>0.000000</td>\n",
       "      <td>0.000000</td>\n",
       "      <td>0.000000</td>\n",
       "      <td>0.000000e+00</td>\n",
       "    </tr>\n",
       "    <tr>\n",
       "      <th>75%</th>\n",
       "      <td>552.000000</td>\n",
       "      <td>0.954526</td>\n",
       "      <td>0.036608</td>\n",
       "      <td>0.010536</td>\n",
       "      <td>0.110005</td>\n",
       "      <td>72.000000</td>\n",
       "      <td>0.697071</td>\n",
       "      <td>-0.214083</td>\n",
       "      <td>39234.500000</td>\n",
       "      <td>6.555388</td>\n",
       "      <td>...</td>\n",
       "      <td>0.000000e+00</td>\n",
       "      <td>0.000000</td>\n",
       "      <td>0.000000</td>\n",
       "      <td>0.255788</td>\n",
       "      <td>0.726874</td>\n",
       "      <td>0.000000</td>\n",
       "      <td>0.000000</td>\n",
       "      <td>0.000000</td>\n",
       "      <td>0.000000</td>\n",
       "      <td>0.000000e+00</td>\n",
       "    </tr>\n",
       "    <tr>\n",
       "      <th>max</th>\n",
       "      <td>1128.000000</td>\n",
       "      <td>1.000000</td>\n",
       "      <td>1.000000</td>\n",
       "      <td>1.000000</td>\n",
       "      <td>1.000000</td>\n",
       "      <td>89.000000</td>\n",
       "      <td>1.226928</td>\n",
       "      <td>0.995520</td>\n",
       "      <td>487300.000000</td>\n",
       "      <td>13.748937</td>\n",
       "      <td>...</td>\n",
       "      <td>3.753042e+06</td>\n",
       "      <td>1.000000</td>\n",
       "      <td>1.000000</td>\n",
       "      <td>1.000000</td>\n",
       "      <td>1.000000</td>\n",
       "      <td>1.000000</td>\n",
       "      <td>1.000000</td>\n",
       "      <td>1.000000</td>\n",
       "      <td>1.000000</td>\n",
       "      <td>4.628044e+07</td>\n",
       "    </tr>\n",
       "  </tbody>\n",
       "</table>\n",
       "<p>8 rows × 102 columns</p>\n",
       "</div>"
      ],
      "text/plain": [
       "                 AGE  AMOUNT_RUB_ATM_PRC  AMOUNT_RUB_CLO_PRC  \\\n",
       "count  355190.000000       316867.000000       316867.000000   \n",
       "mean      457.148073            0.598252            0.044045   \n",
       "std       136.435457            0.363546            0.108449   \n",
       "min       168.000000            0.000000            0.000000   \n",
       "25%       348.000000            0.268672            0.000000   \n",
       "50%       432.000000            0.689935            0.000000   \n",
       "75%       552.000000            0.954526            0.036608   \n",
       "max      1128.000000            1.000000            1.000000   \n",
       "\n",
       "       AMOUNT_RUB_NAS_PRC  AMOUNT_RUB_SUP_PRC  APP_REGISTR_RGN_CODE  \\\n",
       "count       316867.000000       316867.000000          60550.000000   \n",
       "mean             0.023971            0.085249             50.947498   \n",
       "std              0.090774            0.142310             21.777855   \n",
       "min              0.000000            0.000000              0.000000   \n",
       "25%              0.000000            0.000000             33.000000   \n",
       "50%              0.000000            0.027117             54.000000   \n",
       "75%              0.010536            0.110005             72.000000   \n",
       "max              1.000000            1.000000             89.000000   \n",
       "\n",
       "       AVG_PCT_DEBT_TO_DEAL_AMT  AVG_PCT_MONTH_TO_PCLOSE  CLNT_SALARY_VALUE  \\\n",
       "count               1888.000000              1628.000000         712.000000   \n",
       "mean                   0.322192                -2.673593       37060.533806   \n",
       "std                    0.363298                 4.516854       55084.111834   \n",
       "min                    0.000000               -33.623656           0.750000   \n",
       "25%                    0.000000                -3.227529       10178.715000   \n",
       "50%                    0.089863                -0.941628       19396.330000   \n",
       "75%                    0.697071                -0.214083       39234.500000   \n",
       "max                    1.226928                 0.995520      487300.000000   \n",
       "\n",
       "       CLNT_SETUP_TENOR  ...   TURNOVER_CC  TURNOVER_DYNAMIC_CC_1M  \\\n",
       "count     355190.000000  ...  3.551900e+05           355190.000000   \n",
       "mean           4.377001  ...  4.963772e+02                0.000883   \n",
       "std            2.936530  ...  1.234083e+04                0.027321   \n",
       "min            0.345592  ...  0.000000e+00                0.000000   \n",
       "25%            1.781187  ...  0.000000e+00                0.000000   \n",
       "50%            3.894098  ...  0.000000e+00                0.000000   \n",
       "75%            6.555388  ...  0.000000e+00                0.000000   \n",
       "max           13.748937  ...  3.753042e+06                1.000000   \n",
       "\n",
       "       TURNOVER_DYNAMIC_CC_3M  TURNOVER_DYNAMIC_CUR_1M  \\\n",
       "count           355190.000000            355190.000000   \n",
       "mean                 0.004309                 0.204254   \n",
       "std                  0.059852                 0.254973   \n",
       "min                  0.000000                 0.000000   \n",
       "25%                  0.000000                 0.014579   \n",
       "50%                  0.000000                 0.127528   \n",
       "75%                  0.000000                 0.255788   \n",
       "max                  1.000000                 1.000000   \n",
       "\n",
       "       TURNOVER_DYNAMIC_CUR_3M  TURNOVER_DYNAMIC_IL_1M  \\\n",
       "count            355190.000000           355190.000000   \n",
       "mean                  0.484825                0.001305   \n",
       "std                   0.331606                0.029118   \n",
       "min                   0.000000                0.000000   \n",
       "25%                   0.218582                0.000000   \n",
       "50%                   0.494372                0.000000   \n",
       "75%                   0.726874                0.000000   \n",
       "max                   1.000000                1.000000   \n",
       "\n",
       "       TURNOVER_DYNAMIC_IL_3M  TURNOVER_DYNAMIC_PAYM_1M  \\\n",
       "count           355190.000000             355190.000000   \n",
       "mean                 0.003976                  0.025108   \n",
       "std                  0.052736                  0.104482   \n",
       "min                  0.000000                  0.000000   \n",
       "25%                  0.000000                  0.000000   \n",
       "50%                  0.000000                  0.000000   \n",
       "75%                  0.000000                  0.000000   \n",
       "max                  1.000000                  1.000000   \n",
       "\n",
       "       TURNOVER_DYNAMIC_PAYM_3M  TURNOVER_PAYM  \n",
       "count             355190.000000   3.551900e+05  \n",
       "mean                   0.071906   1.446766e+04  \n",
       "std                    0.206863   1.459378e+05  \n",
       "min                    0.000000   0.000000e+00  \n",
       "25%                    0.000000   0.000000e+00  \n",
       "50%                    0.000000   0.000000e+00  \n",
       "75%                    0.000000   0.000000e+00  \n",
       "max                    1.000000   4.628044e+07  \n",
       "\n",
       "[8 rows x 102 columns]"
      ]
     },
     "execution_count": 5,
     "metadata": {},
     "output_type": "execute_result"
    }
   ],
   "source": [
    "data.describe()"
   ]
  },
  {
   "cell_type": "code",
   "execution_count": 8,
   "id": "48dc4d25-9ce1-4da3-bf38-d12a9357a28f",
   "metadata": {
    "colab": {
     "base_uri": "https://localhost:8080/"
    },
    "id": "48dc4d25-9ce1-4da3-bf38-d12a9357a28f",
    "outputId": "3ba81ee5-b403-4f4f-8bd0-04eadc2d1ab4"
   },
   "outputs": [
    {
     "name": "stdout",
     "output_type": "stream",
     "text": [
      "<class 'pandas.core.frame.DataFrame'>\n",
      "Index: 355190 entries, 146841 to 590828\n",
      "Columns: 115 entries, AGE to TURNOVER_PAYM\n",
      "dtypes: float64(94), int64(8), object(13)\n",
      "memory usage: 314.3+ MB\n"
     ]
    }
   ],
   "source": [
    "data.info()"
   ]
  },
  {
   "cell_type": "code",
   "execution_count": 5,
   "id": "61a7f82e-0f0c-4cb5-81cf-92539ff3a663",
   "metadata": {
    "id": "61a7f82e-0f0c-4cb5-81cf-92539ff3a663"
   },
   "outputs": [],
   "source": [
    "data_copy = data.copy()"
   ]
  },
  {
   "cell_type": "code",
   "execution_count": 6,
   "id": "f9a51e01-c983-4f44-bcbf-9d38cf421454",
   "metadata": {
    "id": "f9a51e01-c983-4f44-bcbf-9d38cf421454"
   },
   "outputs": [],
   "source": [
    "# filling null values for numerical columns.\n",
    "imputer = SimpleImputer(strategy='mean')\n",
    "numerical_cols = data.select_dtypes(include=['int64', 'float64']).columns\n",
    "data[numerical_cols] = imputer.fit_transform(data[numerical_cols])"
   ]
  },
  {
   "cell_type": "code",
   "execution_count": 7,
   "id": "lWRwj8s4D2rk",
   "metadata": {
    "colab": {
     "base_uri": "https://localhost:8080/"
    },
    "id": "lWRwj8s4D2rk",
    "outputId": "15e30ff1-c831-4159-ea34-79797871fed6"
   },
   "outputs": [
    {
     "data": {
      "text/plain": [
       "False"
      ]
     },
     "execution_count": 7,
     "metadata": {},
     "output_type": "execute_result"
    }
   ],
   "source": [
    "# verifying null values in numerical columns\n",
    "data[numerical_cols].isna().sum().any()"
   ]
  },
  {
   "cell_type": "code",
   "execution_count": 8,
   "id": "BP0OjEYxCxrZ",
   "metadata": {
    "colab": {
     "base_uri": "https://localhost:8080/"
    },
    "id": "BP0OjEYxCxrZ",
    "outputId": "b9b90b65-0215-4f16-b0b3-be4656fd4ae5"
   },
   "outputs": [
    {
     "data": {
      "text/plain": [
       "APP_CAR                        297934\n",
       "APP_COMP_TYPE                  287828\n",
       "APP_DRIVING_LICENSE            297933\n",
       "APP_EDUCATION                  287086\n",
       "APP_EMP_TYPE                   287828\n",
       "APP_KIND_OF_PROP_HABITATION    295829\n",
       "APP_MARITAL_STATUS             286956\n",
       "APP_POSITION_TYPE              294645\n",
       "APP_TRAVEL_PASS                297933\n",
       "CLNT_JOB_POSITION              144379\n",
       "CLNT_JOB_POSITION_TYPE         310409\n",
       "CLNT_TRUST_RELATION            285769\n",
       "PACK                                0\n",
       "dtype: int64"
      ]
     },
     "execution_count": 8,
     "metadata": {},
     "output_type": "execute_result"
    }
   ],
   "source": [
    "#identifying null values for categorical features\n",
    "categorical_cols = data.select_dtypes(include=['object']).columns\n",
    "data[categorical_cols].isna().sum()"
   ]
  },
  {
   "cell_type": "code",
   "execution_count": 9,
   "id": "9Cui9IvYCzdl",
   "metadata": {
    "colab": {
     "base_uri": "https://localhost:8080/"
    },
    "id": "9Cui9IvYCzdl",
    "outputId": "fdefda49-feb4-47b4-fa9d-10fdd5f12a4e"
   },
   "outputs": [
    {
     "data": {
      "text/plain": [
       "False"
      ]
     },
     "execution_count": 9,
     "metadata": {},
     "output_type": "execute_result"
    }
   ],
   "source": [
    "# filling null values in categorical cols\n",
    "imputer_cat = SimpleImputer(strategy='most_frequent')\n",
    "data[categorical_cols] = imputer_cat.fit_transform(data[categorical_cols])\n",
    "\n",
    "#verifying\n",
    "data[categorical_cols].isna().sum().any()"
   ]
  },
  {
   "cell_type": "markdown",
   "id": "uZ2q_XlXgcEo",
   "metadata": {
    "id": "uZ2q_XlXgcEo"
   },
   "source": [
    "#### checking and handling outliers in the data\n"
   ]
  },
  {
   "cell_type": "code",
   "execution_count": 10,
   "id": "R1mK12a-Ey82",
   "metadata": {
    "colab": {
     "base_uri": "https://localhost:8080/"
    },
    "id": "R1mK12a-Ey82",
    "outputId": "470b1dfc-06f5-4181-ac65-4e2681a65ca9"
   },
   "outputs": [
    {
     "name": "stdout",
     "output_type": "stream",
     "text": [
      "Total numerical columns : 101\n"
     ]
    }
   ],
   "source": [
    "numerical_cols = numerical_cols.drop(['TARGET'])\n",
    "print('Total numerical columns :',len(numerical_cols))"
   ]
  },
  {
   "cell_type": "code",
   "execution_count": 11,
   "id": "qsa78-umTD9L",
   "metadata": {
    "id": "qsa78-umTD9L"
   },
   "outputs": [],
   "source": [
    "# data splitting\n",
    "X = data.drop(columns='TARGET')\n",
    "y = data['TARGET']"
   ]
  },
  {
   "cell_type": "code",
   "execution_count": 12,
   "id": "DYuxy4iyGa10",
   "metadata": {
    "colab": {
     "base_uri": "https://localhost:8080/"
    },
    "id": "DYuxy4iyGa10",
    "outputId": "1d841e62-e1ad-400b-eef9-0093bfc69542"
   },
   "outputs": [
    {
     "name": "stdout",
     "output_type": "stream",
     "text": [
      "Not Normal distribution\n"
     ]
    }
   ],
   "source": [
    "# checking skewness and kurtosis to find distribution of data\n",
    "for col in numerical_cols:\n",
    "    if round(X[col].skew()) == 0 and round(X[col].kurt() == 3):\n",
    "        pass\n",
    "    else:\n",
    "        print('Not Normal distribution')\n",
    "        break;\n",
    "    print('Normal distribution')\n"
   ]
  },
  {
   "cell_type": "markdown",
   "id": "HqpJhdjqgjHY",
   "metadata": {
    "id": "HqpJhdjqgjHY"
   },
   "source": [
    "#### Since, data is not normally distributed, we won't use z-score to identify outliers instead we will use inter-quartile method for that"
   ]
  },
  {
   "cell_type": "code",
   "execution_count": 20,
   "id": "1mvPKBcAiB_2",
   "metadata": {
    "colab": {
     "base_uri": "https://localhost:8080/",
     "height": 350
    },
    "id": "1mvPKBcAiB_2",
    "outputId": "575a818c-2b8e-4349-8324-1f84ae86594d"
   },
   "outputs": [
    {
     "data": {
      "text/html": [
       "<div>\n",
       "<style scoped>\n",
       "    .dataframe tbody tr th:only-of-type {\n",
       "        vertical-align: middle;\n",
       "    }\n",
       "\n",
       "    .dataframe tbody tr th {\n",
       "        vertical-align: top;\n",
       "    }\n",
       "\n",
       "    .dataframe thead th {\n",
       "        text-align: right;\n",
       "    }\n",
       "</style>\n",
       "<table border=\"1\" class=\"dataframe\">\n",
       "  <thead>\n",
       "    <tr style=\"text-align: right;\">\n",
       "      <th></th>\n",
       "      <th>AGE</th>\n",
       "      <th>AMOUNT_RUB_ATM_PRC</th>\n",
       "      <th>AMOUNT_RUB_CLO_PRC</th>\n",
       "      <th>AMOUNT_RUB_NAS_PRC</th>\n",
       "      <th>AMOUNT_RUB_SUP_PRC</th>\n",
       "      <th>APP_REGISTR_RGN_CODE</th>\n",
       "      <th>AVG_PCT_DEBT_TO_DEAL_AMT</th>\n",
       "      <th>AVG_PCT_MONTH_TO_PCLOSE</th>\n",
       "      <th>CLNT_SALARY_VALUE</th>\n",
       "      <th>CLNT_SETUP_TENOR</th>\n",
       "      <th>...</th>\n",
       "      <th>TURNOVER_CC</th>\n",
       "      <th>TURNOVER_DYNAMIC_CC_1M</th>\n",
       "      <th>TURNOVER_DYNAMIC_CC_3M</th>\n",
       "      <th>TURNOVER_DYNAMIC_CUR_1M</th>\n",
       "      <th>TURNOVER_DYNAMIC_CUR_3M</th>\n",
       "      <th>TURNOVER_DYNAMIC_IL_1M</th>\n",
       "      <th>TURNOVER_DYNAMIC_IL_3M</th>\n",
       "      <th>TURNOVER_DYNAMIC_PAYM_1M</th>\n",
       "      <th>TURNOVER_DYNAMIC_PAYM_3M</th>\n",
       "      <th>TURNOVER_PAYM</th>\n",
       "    </tr>\n",
       "  </thead>\n",
       "  <tbody>\n",
       "    <tr>\n",
       "      <th>count</th>\n",
       "      <td>355190.000000</td>\n",
       "      <td>355190.000000</td>\n",
       "      <td>355190.000000</td>\n",
       "      <td>355190.000000</td>\n",
       "      <td>355190.000000</td>\n",
       "      <td>355190.000000</td>\n",
       "      <td>355190.000000</td>\n",
       "      <td>355190.000000</td>\n",
       "      <td>355190.000000</td>\n",
       "      <td>355190.000000</td>\n",
       "      <td>...</td>\n",
       "      <td>3.551900e+05</td>\n",
       "      <td>355190.000000</td>\n",
       "      <td>355190.000000</td>\n",
       "      <td>355190.000000</td>\n",
       "      <td>355190.000000</td>\n",
       "      <td>355190.000000</td>\n",
       "      <td>355190.000000</td>\n",
       "      <td>355190.000000</td>\n",
       "      <td>355190.000000</td>\n",
       "      <td>3.551900e+05</td>\n",
       "    </tr>\n",
       "    <tr>\n",
       "      <th>mean</th>\n",
       "      <td>457.148073</td>\n",
       "      <td>0.598252</td>\n",
       "      <td>0.044045</td>\n",
       "      <td>0.023971</td>\n",
       "      <td>0.085249</td>\n",
       "      <td>50.947498</td>\n",
       "      <td>0.322192</td>\n",
       "      <td>-2.673593</td>\n",
       "      <td>37060.533806</td>\n",
       "      <td>4.377001</td>\n",
       "      <td>...</td>\n",
       "      <td>4.963772e+02</td>\n",
       "      <td>0.000883</td>\n",
       "      <td>0.004309</td>\n",
       "      <td>0.204254</td>\n",
       "      <td>0.484825</td>\n",
       "      <td>0.001305</td>\n",
       "      <td>0.003976</td>\n",
       "      <td>0.025108</td>\n",
       "      <td>0.071906</td>\n",
       "      <td>1.446766e+04</td>\n",
       "    </tr>\n",
       "    <tr>\n",
       "      <th>std</th>\n",
       "      <td>136.435457</td>\n",
       "      <td>0.343374</td>\n",
       "      <td>0.102432</td>\n",
       "      <td>0.085737</td>\n",
       "      <td>0.134414</td>\n",
       "      <td>8.991638</td>\n",
       "      <td>0.026480</td>\n",
       "      <td>0.305703</td>\n",
       "      <td>2464.514615</td>\n",
       "      <td>2.936530</td>\n",
       "      <td>...</td>\n",
       "      <td>1.234083e+04</td>\n",
       "      <td>0.027321</td>\n",
       "      <td>0.059852</td>\n",
       "      <td>0.254973</td>\n",
       "      <td>0.331606</td>\n",
       "      <td>0.029118</td>\n",
       "      <td>0.052736</td>\n",
       "      <td>0.104482</td>\n",
       "      <td>0.206863</td>\n",
       "      <td>1.459378e+05</td>\n",
       "    </tr>\n",
       "    <tr>\n",
       "      <th>min</th>\n",
       "      <td>168.000000</td>\n",
       "      <td>0.000000</td>\n",
       "      <td>0.000000</td>\n",
       "      <td>0.000000</td>\n",
       "      <td>0.000000</td>\n",
       "      <td>0.000000</td>\n",
       "      <td>0.000000</td>\n",
       "      <td>-33.623656</td>\n",
       "      <td>0.750000</td>\n",
       "      <td>0.345592</td>\n",
       "      <td>...</td>\n",
       "      <td>0.000000e+00</td>\n",
       "      <td>0.000000</td>\n",
       "      <td>0.000000</td>\n",
       "      <td>0.000000</td>\n",
       "      <td>0.000000</td>\n",
       "      <td>0.000000</td>\n",
       "      <td>0.000000</td>\n",
       "      <td>0.000000</td>\n",
       "      <td>0.000000</td>\n",
       "      <td>0.000000e+00</td>\n",
       "    </tr>\n",
       "    <tr>\n",
       "      <th>25%</th>\n",
       "      <td>348.000000</td>\n",
       "      <td>0.329420</td>\n",
       "      <td>0.000000</td>\n",
       "      <td>0.000000</td>\n",
       "      <td>0.000000</td>\n",
       "      <td>50.947498</td>\n",
       "      <td>0.322192</td>\n",
       "      <td>-2.673593</td>\n",
       "      <td>37060.533806</td>\n",
       "      <td>1.781187</td>\n",
       "      <td>...</td>\n",
       "      <td>0.000000e+00</td>\n",
       "      <td>0.000000</td>\n",
       "      <td>0.000000</td>\n",
       "      <td>0.014579</td>\n",
       "      <td>0.218582</td>\n",
       "      <td>0.000000</td>\n",
       "      <td>0.000000</td>\n",
       "      <td>0.000000</td>\n",
       "      <td>0.000000</td>\n",
       "      <td>0.000000e+00</td>\n",
       "    </tr>\n",
       "    <tr>\n",
       "      <th>50%</th>\n",
       "      <td>432.000000</td>\n",
       "      <td>0.603638</td>\n",
       "      <td>0.003523</td>\n",
       "      <td>0.000862</td>\n",
       "      <td>0.041014</td>\n",
       "      <td>50.947498</td>\n",
       "      <td>0.322192</td>\n",
       "      <td>-2.673593</td>\n",
       "      <td>37060.533806</td>\n",
       "      <td>3.894098</td>\n",
       "      <td>...</td>\n",
       "      <td>0.000000e+00</td>\n",
       "      <td>0.000000</td>\n",
       "      <td>0.000000</td>\n",
       "      <td>0.127528</td>\n",
       "      <td>0.494372</td>\n",
       "      <td>0.000000</td>\n",
       "      <td>0.000000</td>\n",
       "      <td>0.000000</td>\n",
       "      <td>0.000000</td>\n",
       "      <td>0.000000e+00</td>\n",
       "    </tr>\n",
       "    <tr>\n",
       "      <th>75%</th>\n",
       "      <td>552.000000</td>\n",
       "      <td>0.932063</td>\n",
       "      <td>0.044045</td>\n",
       "      <td>0.023971</td>\n",
       "      <td>0.095284</td>\n",
       "      <td>50.947498</td>\n",
       "      <td>0.322192</td>\n",
       "      <td>-2.673593</td>\n",
       "      <td>37060.533806</td>\n",
       "      <td>6.555388</td>\n",
       "      <td>...</td>\n",
       "      <td>0.000000e+00</td>\n",
       "      <td>0.000000</td>\n",
       "      <td>0.000000</td>\n",
       "      <td>0.255788</td>\n",
       "      <td>0.726874</td>\n",
       "      <td>0.000000</td>\n",
       "      <td>0.000000</td>\n",
       "      <td>0.000000</td>\n",
       "      <td>0.000000</td>\n",
       "      <td>0.000000e+00</td>\n",
       "    </tr>\n",
       "    <tr>\n",
       "      <th>max</th>\n",
       "      <td>1128.000000</td>\n",
       "      <td>1.000000</td>\n",
       "      <td>1.000000</td>\n",
       "      <td>1.000000</td>\n",
       "      <td>1.000000</td>\n",
       "      <td>89.000000</td>\n",
       "      <td>1.226928</td>\n",
       "      <td>0.995520</td>\n",
       "      <td>487300.000000</td>\n",
       "      <td>13.748937</td>\n",
       "      <td>...</td>\n",
       "      <td>3.753042e+06</td>\n",
       "      <td>1.000000</td>\n",
       "      <td>1.000000</td>\n",
       "      <td>1.000000</td>\n",
       "      <td>1.000000</td>\n",
       "      <td>1.000000</td>\n",
       "      <td>1.000000</td>\n",
       "      <td>1.000000</td>\n",
       "      <td>1.000000</td>\n",
       "      <td>4.628044e+07</td>\n",
       "    </tr>\n",
       "  </tbody>\n",
       "</table>\n",
       "<p>8 rows × 101 columns</p>\n",
       "</div>"
      ],
      "text/plain": [
       "                 AGE  AMOUNT_RUB_ATM_PRC  AMOUNT_RUB_CLO_PRC  \\\n",
       "count  355190.000000       355190.000000       355190.000000   \n",
       "mean      457.148073            0.598252            0.044045   \n",
       "std       136.435457            0.343374            0.102432   \n",
       "min       168.000000            0.000000            0.000000   \n",
       "25%       348.000000            0.329420            0.000000   \n",
       "50%       432.000000            0.603638            0.003523   \n",
       "75%       552.000000            0.932063            0.044045   \n",
       "max      1128.000000            1.000000            1.000000   \n",
       "\n",
       "       AMOUNT_RUB_NAS_PRC  AMOUNT_RUB_SUP_PRC  APP_REGISTR_RGN_CODE  \\\n",
       "count       355190.000000       355190.000000         355190.000000   \n",
       "mean             0.023971            0.085249             50.947498   \n",
       "std              0.085737            0.134414              8.991638   \n",
       "min              0.000000            0.000000              0.000000   \n",
       "25%              0.000000            0.000000             50.947498   \n",
       "50%              0.000862            0.041014             50.947498   \n",
       "75%              0.023971            0.095284             50.947498   \n",
       "max              1.000000            1.000000             89.000000   \n",
       "\n",
       "       AVG_PCT_DEBT_TO_DEAL_AMT  AVG_PCT_MONTH_TO_PCLOSE  CLNT_SALARY_VALUE  \\\n",
       "count             355190.000000            355190.000000      355190.000000   \n",
       "mean                   0.322192                -2.673593       37060.533806   \n",
       "std                    0.026480                 0.305703        2464.514615   \n",
       "min                    0.000000               -33.623656           0.750000   \n",
       "25%                    0.322192                -2.673593       37060.533806   \n",
       "50%                    0.322192                -2.673593       37060.533806   \n",
       "75%                    0.322192                -2.673593       37060.533806   \n",
       "max                    1.226928                 0.995520      487300.000000   \n",
       "\n",
       "       CLNT_SETUP_TENOR  ...   TURNOVER_CC  TURNOVER_DYNAMIC_CC_1M  \\\n",
       "count     355190.000000  ...  3.551900e+05           355190.000000   \n",
       "mean           4.377001  ...  4.963772e+02                0.000883   \n",
       "std            2.936530  ...  1.234083e+04                0.027321   \n",
       "min            0.345592  ...  0.000000e+00                0.000000   \n",
       "25%            1.781187  ...  0.000000e+00                0.000000   \n",
       "50%            3.894098  ...  0.000000e+00                0.000000   \n",
       "75%            6.555388  ...  0.000000e+00                0.000000   \n",
       "max           13.748937  ...  3.753042e+06                1.000000   \n",
       "\n",
       "       TURNOVER_DYNAMIC_CC_3M  TURNOVER_DYNAMIC_CUR_1M  \\\n",
       "count           355190.000000            355190.000000   \n",
       "mean                 0.004309                 0.204254   \n",
       "std                  0.059852                 0.254973   \n",
       "min                  0.000000                 0.000000   \n",
       "25%                  0.000000                 0.014579   \n",
       "50%                  0.000000                 0.127528   \n",
       "75%                  0.000000                 0.255788   \n",
       "max                  1.000000                 1.000000   \n",
       "\n",
       "       TURNOVER_DYNAMIC_CUR_3M  TURNOVER_DYNAMIC_IL_1M  \\\n",
       "count            355190.000000           355190.000000   \n",
       "mean                  0.484825                0.001305   \n",
       "std                   0.331606                0.029118   \n",
       "min                   0.000000                0.000000   \n",
       "25%                   0.218582                0.000000   \n",
       "50%                   0.494372                0.000000   \n",
       "75%                   0.726874                0.000000   \n",
       "max                   1.000000                1.000000   \n",
       "\n",
       "       TURNOVER_DYNAMIC_IL_3M  TURNOVER_DYNAMIC_PAYM_1M  \\\n",
       "count           355190.000000             355190.000000   \n",
       "mean                 0.003976                  0.025108   \n",
       "std                  0.052736                  0.104482   \n",
       "min                  0.000000                  0.000000   \n",
       "25%                  0.000000                  0.000000   \n",
       "50%                  0.000000                  0.000000   \n",
       "75%                  0.000000                  0.000000   \n",
       "max                  1.000000                  1.000000   \n",
       "\n",
       "       TURNOVER_DYNAMIC_PAYM_3M  TURNOVER_PAYM  \n",
       "count             355190.000000   3.551900e+05  \n",
       "mean                   0.071906   1.446766e+04  \n",
       "std                    0.206863   1.459378e+05  \n",
       "min                    0.000000   0.000000e+00  \n",
       "25%                    0.000000   0.000000e+00  \n",
       "50%                    0.000000   0.000000e+00  \n",
       "75%                    0.000000   0.000000e+00  \n",
       "max                    1.000000   4.628044e+07  \n",
       "\n",
       "[8 rows x 101 columns]"
      ]
     },
     "execution_count": 20,
     "metadata": {},
     "output_type": "execute_result"
    }
   ],
   "source": [
    "X.describe() # to see difference between 3rd quantile and maximum (to differentiate the outliers)"
   ]
  },
  {
   "cell_type": "code",
   "execution_count": 13,
   "id": "9f4af222-e6df-4773-94ef-dc2fccade3e8",
   "metadata": {
    "id": "NXYuv6K7Oat1"
   },
   "outputs": [],
   "source": [
    "def handle_outliers_iqr(column):\n",
    "    Q1 = column.quantile(0.25)\n",
    "    Q3 = column.quantile(0.75)\n",
    "    IQR = Q3 - Q1\n",
    "    lower_bound = Q1 - 1.5 * IQR\n",
    "    upper_bound = Q3 + 1.5 * IQR\n",
    "    return column.clip(lower=lower_bound, upper=upper_bound)"
   ]
  },
  {
   "cell_type": "code",
   "execution_count": 14,
   "id": "6b62526c-0ed1-4643-b8c1-b98ea2a211a5",
   "metadata": {
    "id": "NXYuv6K7Oat1"
   },
   "outputs": [],
   "source": [
    "# applying the outlier handling function to all numerical columns\n",
    "for col in numerical_cols:\n",
    "    X[col] = handle_outliers_iqr(X[col])"
   ]
  },
  {
   "cell_type": "code",
   "execution_count": 22,
   "id": "tJ17Yi8qN4ch",
   "metadata": {
    "colab": {
     "base_uri": "https://localhost:8080/",
     "height": 350
    },
    "id": "tJ17Yi8qN4ch",
    "outputId": "97647b09-1db7-4ad8-ff74-bac48093c942"
   },
   "outputs": [
    {
     "data": {
      "text/html": [
       "<div>\n",
       "<style scoped>\n",
       "    .dataframe tbody tr th:only-of-type {\n",
       "        vertical-align: middle;\n",
       "    }\n",
       "\n",
       "    .dataframe tbody tr th {\n",
       "        vertical-align: top;\n",
       "    }\n",
       "\n",
       "    .dataframe thead th {\n",
       "        text-align: right;\n",
       "    }\n",
       "</style>\n",
       "<table border=\"1\" class=\"dataframe\">\n",
       "  <thead>\n",
       "    <tr style=\"text-align: right;\">\n",
       "      <th></th>\n",
       "      <th>AGE</th>\n",
       "      <th>AMOUNT_RUB_ATM_PRC</th>\n",
       "      <th>AMOUNT_RUB_CLO_PRC</th>\n",
       "      <th>AMOUNT_RUB_NAS_PRC</th>\n",
       "      <th>AMOUNT_RUB_SUP_PRC</th>\n",
       "      <th>APP_REGISTR_RGN_CODE</th>\n",
       "      <th>AVG_PCT_DEBT_TO_DEAL_AMT</th>\n",
       "      <th>AVG_PCT_MONTH_TO_PCLOSE</th>\n",
       "      <th>CLNT_SALARY_VALUE</th>\n",
       "      <th>CLNT_SETUP_TENOR</th>\n",
       "      <th>...</th>\n",
       "      <th>TURNOVER_CC</th>\n",
       "      <th>TURNOVER_DYNAMIC_CC_1M</th>\n",
       "      <th>TURNOVER_DYNAMIC_CC_3M</th>\n",
       "      <th>TURNOVER_DYNAMIC_CUR_1M</th>\n",
       "      <th>TURNOVER_DYNAMIC_CUR_3M</th>\n",
       "      <th>TURNOVER_DYNAMIC_IL_1M</th>\n",
       "      <th>TURNOVER_DYNAMIC_IL_3M</th>\n",
       "      <th>TURNOVER_DYNAMIC_PAYM_1M</th>\n",
       "      <th>TURNOVER_DYNAMIC_PAYM_3M</th>\n",
       "      <th>TURNOVER_PAYM</th>\n",
       "    </tr>\n",
       "  </thead>\n",
       "  <tbody>\n",
       "    <tr>\n",
       "      <th>count</th>\n",
       "      <td>355190.000000</td>\n",
       "      <td>355190.000000</td>\n",
       "      <td>355190.000000</td>\n",
       "      <td>355190.000000</td>\n",
       "      <td>355190.000000</td>\n",
       "      <td>3.551900e+05</td>\n",
       "      <td>3.551900e+05</td>\n",
       "      <td>3.551900e+05</td>\n",
       "      <td>3.551900e+05</td>\n",
       "      <td>355190.000000</td>\n",
       "      <td>...</td>\n",
       "      <td>355190.0</td>\n",
       "      <td>355190.0</td>\n",
       "      <td>355190.0</td>\n",
       "      <td>355190.000000</td>\n",
       "      <td>355190.000000</td>\n",
       "      <td>355190.0</td>\n",
       "      <td>355190.0</td>\n",
       "      <td>355190.0</td>\n",
       "      <td>355190.0</td>\n",
       "      <td>355190.0</td>\n",
       "    </tr>\n",
       "    <tr>\n",
       "      <th>mean</th>\n",
       "      <td>456.862795</td>\n",
       "      <td>0.598252</td>\n",
       "      <td>0.027007</td>\n",
       "      <td>0.011788</td>\n",
       "      <td>0.068293</td>\n",
       "      <td>5.094750e+01</td>\n",
       "      <td>3.221921e-01</td>\n",
       "      <td>-2.673593e+00</td>\n",
       "      <td>3.706053e+04</td>\n",
       "      <td>4.376998</td>\n",
       "      <td>...</td>\n",
       "      <td>0.0</td>\n",
       "      <td>0.0</td>\n",
       "      <td>0.0</td>\n",
       "      <td>0.180193</td>\n",
       "      <td>0.484825</td>\n",
       "      <td>0.0</td>\n",
       "      <td>0.0</td>\n",
       "      <td>0.0</td>\n",
       "      <td>0.0</td>\n",
       "      <td>0.0</td>\n",
       "    </tr>\n",
       "    <tr>\n",
       "      <th>std</th>\n",
       "      <td>135.501587</td>\n",
       "      <td>0.343374</td>\n",
       "      <td>0.037074</td>\n",
       "      <td>0.018051</td>\n",
       "      <td>0.077308</td>\n",
       "      <td>1.378881e-10</td>\n",
       "      <td>2.031822e-12</td>\n",
       "      <td>1.478508e-11</td>\n",
       "      <td>2.067685e-07</td>\n",
       "      <td>2.936522</td>\n",
       "      <td>...</td>\n",
       "      <td>0.0</td>\n",
       "      <td>0.0</td>\n",
       "      <td>0.0</td>\n",
       "      <td>0.190744</td>\n",
       "      <td>0.331606</td>\n",
       "      <td>0.0</td>\n",
       "      <td>0.0</td>\n",
       "      <td>0.0</td>\n",
       "      <td>0.0</td>\n",
       "      <td>0.0</td>\n",
       "    </tr>\n",
       "    <tr>\n",
       "      <th>min</th>\n",
       "      <td>168.000000</td>\n",
       "      <td>0.000000</td>\n",
       "      <td>0.000000</td>\n",
       "      <td>0.000000</td>\n",
       "      <td>0.000000</td>\n",
       "      <td>5.094750e+01</td>\n",
       "      <td>3.221921e-01</td>\n",
       "      <td>-2.673593e+00</td>\n",
       "      <td>3.706053e+04</td>\n",
       "      <td>0.345592</td>\n",
       "      <td>...</td>\n",
       "      <td>0.0</td>\n",
       "      <td>0.0</td>\n",
       "      <td>0.0</td>\n",
       "      <td>0.000000</td>\n",
       "      <td>0.000000</td>\n",
       "      <td>0.0</td>\n",
       "      <td>0.0</td>\n",
       "      <td>0.0</td>\n",
       "      <td>0.0</td>\n",
       "      <td>0.0</td>\n",
       "    </tr>\n",
       "    <tr>\n",
       "      <th>25%</th>\n",
       "      <td>348.000000</td>\n",
       "      <td>0.329420</td>\n",
       "      <td>0.000000</td>\n",
       "      <td>0.000000</td>\n",
       "      <td>0.000000</td>\n",
       "      <td>5.094750e+01</td>\n",
       "      <td>3.221921e-01</td>\n",
       "      <td>-2.673593e+00</td>\n",
       "      <td>3.706053e+04</td>\n",
       "      <td>1.781187</td>\n",
       "      <td>...</td>\n",
       "      <td>0.0</td>\n",
       "      <td>0.0</td>\n",
       "      <td>0.0</td>\n",
       "      <td>0.014579</td>\n",
       "      <td>0.218582</td>\n",
       "      <td>0.0</td>\n",
       "      <td>0.0</td>\n",
       "      <td>0.0</td>\n",
       "      <td>0.0</td>\n",
       "      <td>0.0</td>\n",
       "    </tr>\n",
       "    <tr>\n",
       "      <th>50%</th>\n",
       "      <td>432.000000</td>\n",
       "      <td>0.603638</td>\n",
       "      <td>0.003523</td>\n",
       "      <td>0.000862</td>\n",
       "      <td>0.041014</td>\n",
       "      <td>5.094750e+01</td>\n",
       "      <td>3.221921e-01</td>\n",
       "      <td>-2.673593e+00</td>\n",
       "      <td>3.706053e+04</td>\n",
       "      <td>3.894098</td>\n",
       "      <td>...</td>\n",
       "      <td>0.0</td>\n",
       "      <td>0.0</td>\n",
       "      <td>0.0</td>\n",
       "      <td>0.127528</td>\n",
       "      <td>0.494372</td>\n",
       "      <td>0.0</td>\n",
       "      <td>0.0</td>\n",
       "      <td>0.0</td>\n",
       "      <td>0.0</td>\n",
       "      <td>0.0</td>\n",
       "    </tr>\n",
       "    <tr>\n",
       "      <th>75%</th>\n",
       "      <td>552.000000</td>\n",
       "      <td>0.932063</td>\n",
       "      <td>0.044045</td>\n",
       "      <td>0.023971</td>\n",
       "      <td>0.095284</td>\n",
       "      <td>5.094750e+01</td>\n",
       "      <td>3.221921e-01</td>\n",
       "      <td>-2.673593e+00</td>\n",
       "      <td>3.706053e+04</td>\n",
       "      <td>6.555388</td>\n",
       "      <td>...</td>\n",
       "      <td>0.0</td>\n",
       "      <td>0.0</td>\n",
       "      <td>0.0</td>\n",
       "      <td>0.255788</td>\n",
       "      <td>0.726874</td>\n",
       "      <td>0.0</td>\n",
       "      <td>0.0</td>\n",
       "      <td>0.0</td>\n",
       "      <td>0.0</td>\n",
       "      <td>0.0</td>\n",
       "    </tr>\n",
       "    <tr>\n",
       "      <th>max</th>\n",
       "      <td>858.000000</td>\n",
       "      <td>1.000000</td>\n",
       "      <td>0.110113</td>\n",
       "      <td>0.059927</td>\n",
       "      <td>0.238211</td>\n",
       "      <td>5.094750e+01</td>\n",
       "      <td>3.221921e-01</td>\n",
       "      <td>-2.673593e+00</td>\n",
       "      <td>3.706053e+04</td>\n",
       "      <td>13.716690</td>\n",
       "      <td>...</td>\n",
       "      <td>0.0</td>\n",
       "      <td>0.0</td>\n",
       "      <td>0.0</td>\n",
       "      <td>0.617602</td>\n",
       "      <td>1.000000</td>\n",
       "      <td>0.0</td>\n",
       "      <td>0.0</td>\n",
       "      <td>0.0</td>\n",
       "      <td>0.0</td>\n",
       "      <td>0.0</td>\n",
       "    </tr>\n",
       "  </tbody>\n",
       "</table>\n",
       "<p>8 rows × 101 columns</p>\n",
       "</div>"
      ],
      "text/plain": [
       "                 AGE  AMOUNT_RUB_ATM_PRC  AMOUNT_RUB_CLO_PRC  \\\n",
       "count  355190.000000       355190.000000       355190.000000   \n",
       "mean      456.862795            0.598252            0.027007   \n",
       "std       135.501587            0.343374            0.037074   \n",
       "min       168.000000            0.000000            0.000000   \n",
       "25%       348.000000            0.329420            0.000000   \n",
       "50%       432.000000            0.603638            0.003523   \n",
       "75%       552.000000            0.932063            0.044045   \n",
       "max       858.000000            1.000000            0.110113   \n",
       "\n",
       "       AMOUNT_RUB_NAS_PRC  AMOUNT_RUB_SUP_PRC  APP_REGISTR_RGN_CODE  \\\n",
       "count       355190.000000       355190.000000          3.551900e+05   \n",
       "mean             0.011788            0.068293          5.094750e+01   \n",
       "std              0.018051            0.077308          1.378881e-10   \n",
       "min              0.000000            0.000000          5.094750e+01   \n",
       "25%              0.000000            0.000000          5.094750e+01   \n",
       "50%              0.000862            0.041014          5.094750e+01   \n",
       "75%              0.023971            0.095284          5.094750e+01   \n",
       "max              0.059927            0.238211          5.094750e+01   \n",
       "\n",
       "       AVG_PCT_DEBT_TO_DEAL_AMT  AVG_PCT_MONTH_TO_PCLOSE  CLNT_SALARY_VALUE  \\\n",
       "count              3.551900e+05             3.551900e+05       3.551900e+05   \n",
       "mean               3.221921e-01            -2.673593e+00       3.706053e+04   \n",
       "std                2.031822e-12             1.478508e-11       2.067685e-07   \n",
       "min                3.221921e-01            -2.673593e+00       3.706053e+04   \n",
       "25%                3.221921e-01            -2.673593e+00       3.706053e+04   \n",
       "50%                3.221921e-01            -2.673593e+00       3.706053e+04   \n",
       "75%                3.221921e-01            -2.673593e+00       3.706053e+04   \n",
       "max                3.221921e-01            -2.673593e+00       3.706053e+04   \n",
       "\n",
       "       CLNT_SETUP_TENOR  ...  TURNOVER_CC  TURNOVER_DYNAMIC_CC_1M  \\\n",
       "count     355190.000000  ...     355190.0                355190.0   \n",
       "mean           4.376998  ...          0.0                     0.0   \n",
       "std            2.936522  ...          0.0                     0.0   \n",
       "min            0.345592  ...          0.0                     0.0   \n",
       "25%            1.781187  ...          0.0                     0.0   \n",
       "50%            3.894098  ...          0.0                     0.0   \n",
       "75%            6.555388  ...          0.0                     0.0   \n",
       "max           13.716690  ...          0.0                     0.0   \n",
       "\n",
       "       TURNOVER_DYNAMIC_CC_3M  TURNOVER_DYNAMIC_CUR_1M  \\\n",
       "count                355190.0            355190.000000   \n",
       "mean                      0.0                 0.180193   \n",
       "std                       0.0                 0.190744   \n",
       "min                       0.0                 0.000000   \n",
       "25%                       0.0                 0.014579   \n",
       "50%                       0.0                 0.127528   \n",
       "75%                       0.0                 0.255788   \n",
       "max                       0.0                 0.617602   \n",
       "\n",
       "       TURNOVER_DYNAMIC_CUR_3M  TURNOVER_DYNAMIC_IL_1M  \\\n",
       "count            355190.000000                355190.0   \n",
       "mean                  0.484825                     0.0   \n",
       "std                   0.331606                     0.0   \n",
       "min                   0.000000                     0.0   \n",
       "25%                   0.218582                     0.0   \n",
       "50%                   0.494372                     0.0   \n",
       "75%                   0.726874                     0.0   \n",
       "max                   1.000000                     0.0   \n",
       "\n",
       "       TURNOVER_DYNAMIC_IL_3M  TURNOVER_DYNAMIC_PAYM_1M  \\\n",
       "count                355190.0                  355190.0   \n",
       "mean                      0.0                       0.0   \n",
       "std                       0.0                       0.0   \n",
       "min                       0.0                       0.0   \n",
       "25%                       0.0                       0.0   \n",
       "50%                       0.0                       0.0   \n",
       "75%                       0.0                       0.0   \n",
       "max                       0.0                       0.0   \n",
       "\n",
       "       TURNOVER_DYNAMIC_PAYM_3M  TURNOVER_PAYM  \n",
       "count                  355190.0       355190.0  \n",
       "mean                        0.0            0.0  \n",
       "std                         0.0            0.0  \n",
       "min                         0.0            0.0  \n",
       "25%                         0.0            0.0  \n",
       "50%                         0.0            0.0  \n",
       "75%                         0.0            0.0  \n",
       "max                         0.0            0.0  \n",
       "\n",
       "[8 rows x 101 columns]"
      ]
     },
     "execution_count": 22,
     "metadata": {},
     "output_type": "execute_result"
    }
   ],
   "source": [
    "X.describe()"
   ]
  },
  {
   "cell_type": "code",
   "execution_count": 15,
   "id": "jKXTtaZniVwa",
   "metadata": {
    "id": "jKXTtaZniVwa"
   },
   "outputs": [],
   "source": [
    "# further Splitting into training and testing data\n",
    "X_train, X_test, y_train, y_test = train_test_split(X, y, test_size=0.3, random_state=42, stratify=y)\n"
   ]
  },
  {
   "cell_type": "code",
   "execution_count": 16,
   "id": "s-8y8K6ARgLM",
   "metadata": {
    "colab": {
     "base_uri": "https://localhost:8080/"
    },
    "id": "s-8y8K6ARgLM",
    "outputId": "a2cd87ec-2091-477a-ea3a-70e0fbcc251f"
   },
   "outputs": [
    {
     "data": {
      "text/plain": [
       "TARGET\n",
       "0.0    326265\n",
       "1.0     28925\n",
       "Name: count, dtype: int64"
      ]
     },
     "execution_count": 16,
     "metadata": {},
     "output_type": "execute_result"
    }
   ],
   "source": [
    "y.value_counts() #needs to perform oversampling or some kind of likewise method"
   ]
  },
  {
   "cell_type": "markdown",
   "id": "lep_xuorcKdg",
   "metadata": {
    "id": "lep_xuorcKdg"
   },
   "source": [
    "#### Data transformation and reduction"
   ]
  },
  {
   "cell_type": "code",
   "execution_count": 18,
   "id": "fbiTy28Pmq1d",
   "metadata": {
    "id": "fbiTy28Pmq1d"
   },
   "outputs": [],
   "source": [
    "#transforming columns\n",
    "ct = ColumnTransformer(\n",
    "                        transformers=[\n",
    "                                      ('num', StandardScaler(), numerical_cols),\n",
    "                                      ('cat', OneHotEncoder(handle_unknown='ignore', max_categories=100), categorical_cols)\n",
    "                                     ])\n",
    "\n",
    "#fit_transform the training data, and transform the testing data\n",
    "X_train_transformed = ct.fit_transform(X_train)\n",
    "X_test_transformed = ct.transform(X_test)"
   ]
  },
  {
   "cell_type": "code",
   "execution_count": 19,
   "id": "ca76IBtJm-Tb",
   "metadata": {
    "id": "ca76IBtJm-Tb"
   },
   "outputs": [],
   "source": [
    "# applying SMOTE for oversampling\n",
    "adasyn = ADASYN(random_state=42)\n",
    "X_train_resampled, y_train_resampled = adasyn.fit_resample(X_train_transformed, y_train)"
   ]
  },
  {
   "cell_type": "code",
   "execution_count": 20,
   "id": "d7d3ed47-6389-4f22-9dd2-295d1c79849e",
   "metadata": {},
   "outputs": [
    {
     "data": {
      "text/plain": [
       "TARGET\n",
       "1.0    230012\n",
       "0.0    228385\n",
       "Name: count, dtype: int64"
      ]
     },
     "execution_count": 20,
     "metadata": {},
     "output_type": "execute_result"
    }
   ],
   "source": [
    "y_train_resampled.value_counts()"
   ]
  },
  {
   "cell_type": "markdown",
   "id": "199af738-0ee1-4304-a7c2-d333411e2001",
   "metadata": {},
   "source": [
    "### Model building"
   ]
  },
  {
   "cell_type": "code",
   "execution_count": 32,
   "id": "e4cd2fb4-21b4-4be8-86d6-94eff947470d",
   "metadata": {},
   "outputs": [],
   "source": [
    "#model building\n",
    "svm_model = SVC(kernel='linear')\n",
    "svm_model.fit(X_train_resampled, y_train_resampled)\n",
    "\n",
    "y_pred_svm = svm_model.predict(X_test_transformed)"
   ]
  },
  {
   "cell_type": "markdown",
   "id": "ea48ab20-28b1-4c4f-90d7-606a1efd71c6",
   "metadata": {},
   "source": [
    "SVM was taking too much time. since, it has time complexity of 𝑂(𝑛 samples × 𝑛 features), using it is not a feasible solution.\n",
    "\n",
    "Taking a subset of data to test SVM"
   ]
  },
  {
   "cell_type": "code",
   "execution_count": 44,
   "id": "53400fdc-9299-4029-9cb1-815f3d220d29",
   "metadata": {},
   "outputs": [],
   "source": [
    "X_subset, _, y_subset, _ = train_test_split(X_train_resampled, y_train_resampled, train_size=10000, stratify=y_train_resampled, random_state=42)"
   ]
  },
  {
   "cell_type": "code",
   "execution_count": 45,
   "id": "7f92ffd0-aa3f-4496-aed2-d23bdd17d432",
   "metadata": {},
   "outputs": [
    {
     "name": "stdout",
     "output_type": "stream",
     "text": [
      "(10000, 178) (10000,)\n"
     ]
    }
   ],
   "source": [
    "print(X_subset.shape, y_subset.shape)"
   ]
  },
  {
   "cell_type": "code",
   "execution_count": 46,
   "id": "9f6b8bf7-85ba-4798-b749-a9f9aae4e059",
   "metadata": {},
   "outputs": [
    {
     "data": {
      "text/plain": [
       "TARGET\n",
       "1.0    5034\n",
       "0.0    4966\n",
       "Name: count, dtype: int64"
      ]
     },
     "execution_count": 46,
     "metadata": {},
     "output_type": "execute_result"
    }
   ],
   "source": [
    "y_subset.value_counts()"
   ]
  },
  {
   "cell_type": "code",
   "execution_count": 47,
   "id": "bf0f4e2c-5e46-4b5b-a313-5a0dbd8e6419",
   "metadata": {},
   "outputs": [],
   "source": [
    "svm_model = SVC(kernel='linear')\n",
    "svm_model.fit(X_subset, y_subset)\n",
    "\n",
    "y_pred_svm = svm_model.predict(X_test_transformed)"
   ]
  },
  {
   "cell_type": "code",
   "execution_count": 48,
   "id": "6fffcde9-49f2-472f-81a8-7a4572d923ab",
   "metadata": {},
   "outputs": [
    {
     "name": "stdout",
     "output_type": "stream",
     "text": [
      "Accuracy: 0.5121953508450876\n",
      "              precision    recall  f1-score   support\n",
      "\n",
      "         0.0       0.92      0.51      0.66     97880\n",
      "         1.0       0.08      0.49      0.14      8677\n",
      "\n",
      "    accuracy                           0.51    106557\n",
      "   macro avg       0.50      0.50      0.40    106557\n",
      "weighted avg       0.85      0.51      0.62    106557\n",
      "\n"
     ]
    }
   ],
   "source": [
    "print(f\"Accuracy: {accuracy_score(y_test, y_pred_svm)}\")\n",
    "print(classification_report(y_test, y_pred_svm))"
   ]
  },
  {
   "cell_type": "markdown",
   "id": "339df6f9-48db-4856-9887-faf76b0670d2",
   "metadata": {},
   "source": [
    "### using different kernels and tuning hyperparameters"
   ]
  },
  {
   "cell_type": "code",
   "execution_count": null,
   "id": "1d8de9b3-4741-4c9d-a946-b0de0183d731",
   "metadata": {},
   "outputs": [],
   "source": [
    "param_dist = {'kernel': ['poly', 'sigmoid'],\n",
    "    'C': uniform(loc=0.001, scale=1000),\n",
    "    'gamma': ['scale', 'auto'],\n",
    "    'coef0': [0.0, 0.1, 0.5] \n",
    "\n",
    "}\n",
    "\n",
    "random_search = RandomizedSearchCV(SVC(), param_distributions=param_dist, n_iter=100, cv=5, n_jobs=-1, verbose=2)\n",
    "random_search.fit(X_subset, y_subset)\n",
    "\n",
    "print(\"Best parameters found: \", random_search.best_params_)\n",
    "print(\"Best cross-validation score: \", random_search.best_score_)\n",
    "\n",
    "best_svm_model = random_search.best_estimator_"
   ]
  },
  {
   "cell_type": "code",
   "execution_count": 53,
   "id": "7eb6b20f-f206-45c6-a2ef-c9073b5b1c26",
   "metadata": {},
   "outputs": [
    {
     "name": "stdout",
     "output_type": "stream",
     "text": [
      "SVC(C=992.6678216154291, coef0=0.5, gamma='auto', kernel='poly')\n"
     ]
    }
   ],
   "source": [
    "print(best_svm_model)"
   ]
  },
  {
   "cell_type": "code",
   "execution_count": 55,
   "id": "b33524e7-3331-4340-a2e5-9d9c07d855cd",
   "metadata": {},
   "outputs": [
    {
     "name": "stdout",
     "output_type": "stream",
     "text": [
      "Best parameters found:  {'C': 992.6678216154291, 'coef0': 0.5, 'gamma': 'auto', 'kernel': 'poly'}\n",
      "Best cross-validation score:  0.7402\n"
     ]
    }
   ],
   "source": [
    "print(\"Best parameters found: \", random_search.best_params_)\n",
    "print(\"Best cross-validation score: \", random_search.best_score_)"
   ]
  },
  {
   "cell_type": "code",
   "execution_count": 54,
   "id": "6cb1ac1d-85d5-4344-bf66-de1bd31515b1",
   "metadata": {},
   "outputs": [
    {
     "name": "stdout",
     "output_type": "stream",
     "text": [
      "              precision    recall  f1-score   support\n",
      "\n",
      "         0.0       0.92      0.65      0.76     97880\n",
      "         1.0       0.08      0.35      0.13      8677\n",
      "\n",
      "    accuracy                           0.63    106557\n",
      "   macro avg       0.50      0.50      0.45    106557\n",
      "weighted avg       0.85      0.63      0.71    106557\n",
      "\n"
     ]
    }
   ],
   "source": [
    "y_pred_svm_rm = best_svm_model.predict(X_test_transformed)\n",
    "\n",
    "print(classification_report(y_test, y_pred_svm_rm))"
   ]
  },
  {
   "cell_type": "markdown",
   "id": "ece873b3-2f1a-45ba-a322-cecb622941ee",
   "metadata": {},
   "source": [
    "### model is still performing poor on class 1, will try introducing class weights on unbalanced data as when we are doing oversampling, some bias is always created towards one or other or will be undersampling the majority class"
   ]
  },
  {
   "cell_type": "markdown",
   "id": "757739b2-5de0-42ca-8776-6d4abe41b4cf",
   "metadata": {},
   "source": [
    "## more pre-processing"
   ]
  },
  {
   "cell_type": "code",
   "execution_count": 21,
   "id": "32e7993b-e438-4ce0-820f-40d40121e57c",
   "metadata": {},
   "outputs": [],
   "source": [
    "# Drop columns with too many missing values\n",
    "threshold = 0.6  # Set your threshold here\n",
    "cols_to_drop = data_copy.columns[data_copy.isnull().mean() > threshold]\n",
    "data_cleaned = data_copy.drop(cols_to_drop, axis=1)"
   ]
  },
  {
   "cell_type": "code",
   "execution_count": 22,
   "id": "e842be05-423f-4951-90c8-d41408df53ed",
   "metadata": {},
   "outputs": [
    {
     "data": {
      "text/html": [
       "<div>\n",
       "<style scoped>\n",
       "    .dataframe tbody tr th:only-of-type {\n",
       "        vertical-align: middle;\n",
       "    }\n",
       "\n",
       "    .dataframe tbody tr th {\n",
       "        vertical-align: top;\n",
       "    }\n",
       "\n",
       "    .dataframe thead th {\n",
       "        text-align: right;\n",
       "    }\n",
       "</style>\n",
       "<table border=\"1\" class=\"dataframe\">\n",
       "  <thead>\n",
       "    <tr style=\"text-align: right;\">\n",
       "      <th></th>\n",
       "      <th>AGE</th>\n",
       "      <th>AMOUNT_RUB_ATM_PRC</th>\n",
       "      <th>AMOUNT_RUB_CLO_PRC</th>\n",
       "      <th>AMOUNT_RUB_NAS_PRC</th>\n",
       "      <th>AMOUNT_RUB_SUP_PRC</th>\n",
       "      <th>CLNT_JOB_POSITION</th>\n",
       "      <th>CLNT_SETUP_TENOR</th>\n",
       "      <th>CNT_ACCEPTS_MTP</th>\n",
       "      <th>CNT_ACCEPTS_TK</th>\n",
       "      <th>CNT_TRAN_ATM_TENDENCY1M</th>\n",
       "      <th>...</th>\n",
       "      <th>TURNOVER_CC</th>\n",
       "      <th>TURNOVER_DYNAMIC_CC_1M</th>\n",
       "      <th>TURNOVER_DYNAMIC_CC_3M</th>\n",
       "      <th>TURNOVER_DYNAMIC_CUR_1M</th>\n",
       "      <th>TURNOVER_DYNAMIC_CUR_3M</th>\n",
       "      <th>TURNOVER_DYNAMIC_IL_1M</th>\n",
       "      <th>TURNOVER_DYNAMIC_IL_3M</th>\n",
       "      <th>TURNOVER_DYNAMIC_PAYM_1M</th>\n",
       "      <th>TURNOVER_DYNAMIC_PAYM_3M</th>\n",
       "      <th>TURNOVER_PAYM</th>\n",
       "    </tr>\n",
       "    <tr>\n",
       "      <th>ID</th>\n",
       "      <th></th>\n",
       "      <th></th>\n",
       "      <th></th>\n",
       "      <th></th>\n",
       "      <th></th>\n",
       "      <th></th>\n",
       "      <th></th>\n",
       "      <th></th>\n",
       "      <th></th>\n",
       "      <th></th>\n",
       "      <th></th>\n",
       "      <th></th>\n",
       "      <th></th>\n",
       "      <th></th>\n",
       "      <th></th>\n",
       "      <th></th>\n",
       "      <th></th>\n",
       "      <th></th>\n",
       "      <th></th>\n",
       "      <th></th>\n",
       "      <th></th>\n",
       "    </tr>\n",
       "  </thead>\n",
       "  <tbody>\n",
       "    <tr>\n",
       "      <th>146841</th>\n",
       "      <td>660</td>\n",
       "      <td>1.000000</td>\n",
       "      <td>0.000000</td>\n",
       "      <td>0.0</td>\n",
       "      <td>0.000000</td>\n",
       "      <td>начальник отдела</td>\n",
       "      <td>1.593023</td>\n",
       "      <td>NaN</td>\n",
       "      <td>NaN</td>\n",
       "      <td>0.101695</td>\n",
       "      <td>...</td>\n",
       "      <td>0.0</td>\n",
       "      <td>0.0</td>\n",
       "      <td>0.0</td>\n",
       "      <td>0.131910</td>\n",
       "      <td>0.442285</td>\n",
       "      <td>0.0</td>\n",
       "      <td>0.0</td>\n",
       "      <td>0.0</td>\n",
       "      <td>0.0</td>\n",
       "      <td>0.0</td>\n",
       "    </tr>\n",
       "    <tr>\n",
       "      <th>146842</th>\n",
       "      <td>552</td>\n",
       "      <td>0.410691</td>\n",
       "      <td>0.041033</td>\n",
       "      <td>0.0</td>\n",
       "      <td>0.244678</td>\n",
       "      <td>NaN</td>\n",
       "      <td>1.587647</td>\n",
       "      <td>NaN</td>\n",
       "      <td>NaN</td>\n",
       "      <td>0.166667</td>\n",
       "      <td>...</td>\n",
       "      <td>0.0</td>\n",
       "      <td>0.0</td>\n",
       "      <td>0.0</td>\n",
       "      <td>0.101934</td>\n",
       "      <td>0.515876</td>\n",
       "      <td>0.0</td>\n",
       "      <td>0.0</td>\n",
       "      <td>0.0</td>\n",
       "      <td>0.0</td>\n",
       "      <td>0.0</td>\n",
       "    </tr>\n",
       "    <tr>\n",
       "      <th>146843</th>\n",
       "      <td>420</td>\n",
       "      <td>0.925140</td>\n",
       "      <td>0.006915</td>\n",
       "      <td>0.0</td>\n",
       "      <td>0.000000</td>\n",
       "      <td>ГЕНЕРАЛЬНЫЙ ДИРЕКТОР</td>\n",
       "      <td>1.587647</td>\n",
       "      <td>0.0</td>\n",
       "      <td>0.0</td>\n",
       "      <td>0.133333</td>\n",
       "      <td>...</td>\n",
       "      <td>0.0</td>\n",
       "      <td>0.0</td>\n",
       "      <td>0.0</td>\n",
       "      <td>0.121041</td>\n",
       "      <td>0.522833</td>\n",
       "      <td>0.0</td>\n",
       "      <td>0.0</td>\n",
       "      <td>0.0</td>\n",
       "      <td>0.0</td>\n",
       "      <td>0.0</td>\n",
       "    </tr>\n",
       "    <tr>\n",
       "      <th>146844</th>\n",
       "      <td>372</td>\n",
       "      <td>1.000000</td>\n",
       "      <td>0.000000</td>\n",
       "      <td>0.0</td>\n",
       "      <td>0.000000</td>\n",
       "      <td>МЕНЕДЖЕР ИАО</td>\n",
       "      <td>1.583333</td>\n",
       "      <td>NaN</td>\n",
       "      <td>NaN</td>\n",
       "      <td>NaN</td>\n",
       "      <td>...</td>\n",
       "      <td>0.0</td>\n",
       "      <td>0.0</td>\n",
       "      <td>0.0</td>\n",
       "      <td>0.000005</td>\n",
       "      <td>0.000189</td>\n",
       "      <td>0.0</td>\n",
       "      <td>0.0</td>\n",
       "      <td>0.0</td>\n",
       "      <td>0.0</td>\n",
       "      <td>0.0</td>\n",
       "    </tr>\n",
       "    <tr>\n",
       "      <th>146845</th>\n",
       "      <td>288</td>\n",
       "      <td>1.000000</td>\n",
       "      <td>0.000000</td>\n",
       "      <td>0.0</td>\n",
       "      <td>0.000000</td>\n",
       "      <td>NaN</td>\n",
       "      <td>1.583333</td>\n",
       "      <td>NaN</td>\n",
       "      <td>NaN</td>\n",
       "      <td>0.172414</td>\n",
       "      <td>...</td>\n",
       "      <td>0.0</td>\n",
       "      <td>0.0</td>\n",
       "      <td>0.0</td>\n",
       "      <td>0.177869</td>\n",
       "      <td>0.593648</td>\n",
       "      <td>0.0</td>\n",
       "      <td>0.0</td>\n",
       "      <td>0.0</td>\n",
       "      <td>0.0</td>\n",
       "      <td>0.0</td>\n",
       "    </tr>\n",
       "  </tbody>\n",
       "</table>\n",
       "<p>5 rows × 62 columns</p>\n",
       "</div>"
      ],
      "text/plain": [
       "        AGE  AMOUNT_RUB_ATM_PRC  AMOUNT_RUB_CLO_PRC  AMOUNT_RUB_NAS_PRC  \\\n",
       "ID                                                                        \n",
       "146841  660            1.000000            0.000000                 0.0   \n",
       "146842  552            0.410691            0.041033                 0.0   \n",
       "146843  420            0.925140            0.006915                 0.0   \n",
       "146844  372            1.000000            0.000000                 0.0   \n",
       "146845  288            1.000000            0.000000                 0.0   \n",
       "\n",
       "        AMOUNT_RUB_SUP_PRC     CLNT_JOB_POSITION  CLNT_SETUP_TENOR  \\\n",
       "ID                                                                   \n",
       "146841            0.000000      начальник отдела          1.593023   \n",
       "146842            0.244678                   NaN          1.587647   \n",
       "146843            0.000000  ГЕНЕРАЛЬНЫЙ ДИРЕКТОР          1.587647   \n",
       "146844            0.000000          МЕНЕДЖЕР ИАО          1.583333   \n",
       "146845            0.000000                   NaN          1.583333   \n",
       "\n",
       "        CNT_ACCEPTS_MTP  CNT_ACCEPTS_TK  CNT_TRAN_ATM_TENDENCY1M  ...  \\\n",
       "ID                                                                ...   \n",
       "146841              NaN             NaN                 0.101695  ...   \n",
       "146842              NaN             NaN                 0.166667  ...   \n",
       "146843              0.0             0.0                 0.133333  ...   \n",
       "146844              NaN             NaN                      NaN  ...   \n",
       "146845              NaN             NaN                 0.172414  ...   \n",
       "\n",
       "        TURNOVER_CC  TURNOVER_DYNAMIC_CC_1M  TURNOVER_DYNAMIC_CC_3M  \\\n",
       "ID                                                                    \n",
       "146841          0.0                     0.0                     0.0   \n",
       "146842          0.0                     0.0                     0.0   \n",
       "146843          0.0                     0.0                     0.0   \n",
       "146844          0.0                     0.0                     0.0   \n",
       "146845          0.0                     0.0                     0.0   \n",
       "\n",
       "        TURNOVER_DYNAMIC_CUR_1M  TURNOVER_DYNAMIC_CUR_3M  \\\n",
       "ID                                                         \n",
       "146841                 0.131910                 0.442285   \n",
       "146842                 0.101934                 0.515876   \n",
       "146843                 0.121041                 0.522833   \n",
       "146844                 0.000005                 0.000189   \n",
       "146845                 0.177869                 0.593648   \n",
       "\n",
       "        TURNOVER_DYNAMIC_IL_1M  TURNOVER_DYNAMIC_IL_3M  \\\n",
       "ID                                                       \n",
       "146841                     0.0                     0.0   \n",
       "146842                     0.0                     0.0   \n",
       "146843                     0.0                     0.0   \n",
       "146844                     0.0                     0.0   \n",
       "146845                     0.0                     0.0   \n",
       "\n",
       "        TURNOVER_DYNAMIC_PAYM_1M  TURNOVER_DYNAMIC_PAYM_3M  TURNOVER_PAYM  \n",
       "ID                                                                         \n",
       "146841                       0.0                       0.0            0.0  \n",
       "146842                       0.0                       0.0            0.0  \n",
       "146843                       0.0                       0.0            0.0  \n",
       "146844                       0.0                       0.0            0.0  \n",
       "146845                       0.0                       0.0            0.0  \n",
       "\n",
       "[5 rows x 62 columns]"
      ]
     },
     "execution_count": 22,
     "metadata": {},
     "output_type": "execute_result"
    }
   ],
   "source": [
    "data_cleaned.head()"
   ]
  },
  {
   "cell_type": "code",
   "execution_count": 23,
   "id": "d87d2777-48e2-4174-823c-a0151019dcb9",
   "metadata": {},
   "outputs": [],
   "source": [
    "data_cleaned.drop_duplicates(inplace=True)"
   ]
  },
  {
   "cell_type": "code",
   "execution_count": 24,
   "id": "db8096c4-53ea-4826-9837-48ed15fb9f7e",
   "metadata": {},
   "outputs": [],
   "source": [
    "X = data_cleaned.drop(columns='TARGET')\n",
    "y = data_cleaned['TARGET']\n",
    "\n",
    "numerical_cols = X.select_dtypes(include=['int64', 'float64']).columns\n",
    "categorical_cols = X.select_dtypes(include=['object']).columns\n",
    "\n",
    "\n",
    "preprocessor = ColumnTransformer(\n",
    "    transformers=[\n",
    "        ('num', SimpleImputer(strategy='mean'), numerical_cols),\n",
    "        ('cat', SimpleImputer(strategy='most_frequent'), categorical_cols)\n",
    "    ])\n",
    "\n",
    "data_imputed = preprocessor.fit_transform(X)\n",
    "data_imputed = pd.DataFrame(data_imputed, columns=numerical_cols.tolist() + categorical_cols.tolist())\n"
   ]
  },
  {
   "cell_type": "code",
   "execution_count": 25,
   "id": "08f5b59d-5192-4025-a523-b9a20d305a7c",
   "metadata": {},
   "outputs": [],
   "source": [
    "# applying the outlier handling function to all numerical columns\n",
    "for col in numerical_cols:\n",
    "    data_imputed[col] = handle_outliers_iqr(data_imputed[col])"
   ]
  },
  {
   "cell_type": "code",
   "execution_count": 26,
   "id": "8513b54c-fddc-4e3e-b3a9-7eacd562d1a9",
   "metadata": {},
   "outputs": [],
   "source": [
    "X_train, X_test, y_train, y_test = train_test_split(data_imputed,y, test_size=0.2, random_state=42, stratify=y)\n"
   ]
  },
  {
   "cell_type": "code",
   "execution_count": 27,
   "id": "121183b5-a830-4653-ad46-6b00ae9f5aee",
   "metadata": {},
   "outputs": [],
   "source": [
    "#transforming columns\n",
    "\n",
    "ct = ColumnTransformer(\n",
    "                        transformers=[\n",
    "                                      ('num', StandardScaler(), numerical_cols),\n",
    "                                      ('cat', OneHotEncoder(handle_unknown='ignore', min_frequency=10), categorical_cols)\n",
    "                                     ])\n",
    "\n",
    "#fit_transform the training data, and transform the testing data\n",
    "X_train_transformed = ct.fit_transform(X_train)\n",
    "X_test_transformed = ct.transform(X_test)"
   ]
  },
  {
   "cell_type": "code",
   "execution_count": 28,
   "id": "f1f2c07f-c77d-417d-bfac-719762e436f7",
   "metadata": {},
   "outputs": [],
   "source": [
    "# data reduction  using svd\n",
    "n_components = 10\n",
    "\n",
    "svd = TruncatedSVD(n_components=n_components)\n",
    "\n",
    "X_train_reduced = svd.fit_transform(X_train_transformed)\n",
    "\n",
    "X_test_reduced = svd.transform(X_test_transformed)"
   ]
  },
  {
   "cell_type": "code",
   "execution_count": 29,
   "id": "0b198084-8525-4eff-bd97-4cef6235ea3c",
   "metadata": {},
   "outputs": [],
   "source": [
    "from imblearn.under_sampling import RandomUnderSampler\n",
    "\n",
    "undersampler = RandomUnderSampler(random_state=42)\n",
    "\n",
    "# data resampling\n",
    "X_train_resampled, y_train_resampled = undersampler.fit_resample(X_train_transformed, y_train)\n",
    "\n"
   ]
  },
  {
   "cell_type": "code",
   "execution_count": 42,
   "id": "e061a55f-5ce4-4e3f-86aa-de46b96f9111",
   "metadata": {},
   "outputs": [
    {
     "name": "stdout",
     "output_type": "stream",
     "text": [
      "Numeric columns : Index(['AGE', 'AMOUNT_RUB_ATM_PRC', 'AMOUNT_RUB_CLO_PRC', 'AMOUNT_RUB_NAS_PRC',\n",
      "       'AMOUNT_RUB_SUP_PRC', 'CLNT_SETUP_TENOR', 'CNT_ACCEPTS_MTP',\n",
      "       'CNT_ACCEPTS_TK', 'CNT_TRAN_ATM_TENDENCY1M', 'CNT_TRAN_ATM_TENDENCY3M',\n",
      "       'CNT_TRAN_SUP_TENDENCY1M', 'CNT_TRAN_SUP_TENDENCY3M', 'CR_PROD_CNT_CC',\n",
      "       'CR_PROD_CNT_CCFP', 'CR_PROD_CNT_IL', 'CR_PROD_CNT_PIL',\n",
      "       'CR_PROD_CNT_TOVR', 'CR_PROD_CNT_VCU', 'LDEAL_GRACE_DAYS_PCT_MED',\n",
      "       'PRC_ACCEPTS_A_AMOBILE', 'PRC_ACCEPTS_A_ATM',\n",
      "       'PRC_ACCEPTS_A_EMAIL_LINK', 'PRC_ACCEPTS_A_MTP', 'PRC_ACCEPTS_A_POS',\n",
      "       'PRC_ACCEPTS_A_TK', 'PRC_ACCEPTS_MTP', 'PRC_ACCEPTS_TK', 'REST_AVG_CUR',\n",
      "       'REST_AVG_PAYM', 'REST_DYNAMIC_CC_1M', 'REST_DYNAMIC_CC_3M',\n",
      "       'REST_DYNAMIC_CUR_1M', 'REST_DYNAMIC_CUR_3M', 'REST_DYNAMIC_FDEP_1M',\n",
      "       'REST_DYNAMIC_FDEP_3M', 'REST_DYNAMIC_IL_1M', 'REST_DYNAMIC_IL_3M',\n",
      "       'REST_DYNAMIC_PAYM_1M', 'REST_DYNAMIC_PAYM_3M', 'REST_DYNAMIC_SAVE_3M',\n",
      "       'SUM_TRAN_ATM_TENDENCY1M', 'SUM_TRAN_ATM_TENDENCY3M',\n",
      "       'SUM_TRAN_SUP_TENDENCY1M', 'SUM_TRAN_SUP_TENDENCY3M',\n",
      "       'TRANS_AMOUNT_TENDENCY3M', 'TRANS_CNT_TENDENCY3M',\n",
      "       'TRANS_COUNT_ATM_PRC', 'TRANS_COUNT_NAS_PRC', 'TRANS_COUNT_SUP_PRC',\n",
      "       'TURNOVER_CC', 'TURNOVER_DYNAMIC_CC_1M', 'TURNOVER_DYNAMIC_CC_3M',\n",
      "       'TURNOVER_DYNAMIC_CUR_1M', 'TURNOVER_DYNAMIC_CUR_3M',\n",
      "       'TURNOVER_DYNAMIC_IL_1M', 'TURNOVER_DYNAMIC_IL_3M',\n",
      "       'TURNOVER_DYNAMIC_PAYM_1M', 'TURNOVER_DYNAMIC_PAYM_3M',\n",
      "       'TURNOVER_PAYM'],\n",
      "      dtype='object')\n",
      "categorical columns : Index(['CLNT_JOB_POSITION', 'PACK'], dtype='object')\n"
     ]
    }
   ],
   "source": [
    "print(f\"Numeric columns : {numerical_cols}\")\n",
    "print(f\"categorical columns : {categorical_cols}\")"
   ]
  },
  {
   "cell_type": "markdown",
   "id": "df526b2d-5047-40f4-9343-dee7b469ec62",
   "metadata": {},
   "source": [
    "\n",
    "## using subset"
   ]
  },
  {
   "cell_type": "code",
   "execution_count": 30,
   "id": "c581f8f3-f213-4c0e-a4a1-bdb8f90a3adf",
   "metadata": {},
   "outputs": [],
   "source": [
    "X_class_0 = X_train_transformed[y_train == 0.0]\n",
    "y_class_0 = y_train[y_train == 0.0]\n",
    "X_class_1 = X_train_transformed[y_train == 1.0]\n",
    "y_class_1 = y_train[y_train == 1.0]\n",
    "\n",
    "\n",
    "X_class_0_sampled, _, y_class_0_sampled, _ = train_test_split(\n",
    "    X_class_0, y_class_0, \n",
    "    train_size=10000, \n",
    "    random_state=42\n",
    ")\n",
    "\n",
    "X_class_1_sampled, _, y_class_1_sampled, _ = train_test_split(\n",
    "    X_class_1, y_class_1, \n",
    "    train_size=10000, \n",
    "    random_state=42\n",
    ")"
   ]
  },
  {
   "cell_type": "code",
   "execution_count": 31,
   "id": "4e2020b5-47d6-446c-86cb-a3859aa9d96e",
   "metadata": {},
   "outputs": [
    {
     "name": "stdout",
     "output_type": "stream",
     "text": [
      "Class distribution in the subset:\n",
      "TARGET\n",
      "0    10000\n",
      "1    10000\n",
      "Name: count, dtype: int64\n"
     ]
    }
   ],
   "source": [
    "# Combine the sampled class 0 data with all class 1 data\n",
    "X_subset = pd.concat([pd.DataFrame(X_class_0_sampled), pd.DataFrame(X_class_1_sampled)])\n",
    "y_subset = pd.concat([y_class_0_sampled, y_class_1_sampled])\n",
    "\n",
    "# Verify the class distribution in the subset\n",
    "print(\"Class distribution in the subset:\")\n",
    "print(y_subset.value_counts())"
   ]
  },
  {
   "cell_type": "code",
   "execution_count": 68,
   "id": "f2f49e52-22ac-4145-896b-4b75b1580e6e",
   "metadata": {},
   "outputs": [
    {
     "name": "stdout",
     "output_type": "stream",
     "text": [
      "Fitting 5 folds for each of 1 candidates, totalling 5 fits\n"
     ]
    }
   ],
   "source": [
    "#using randomized search to induce parallel processing\n",
    "param_set = {'degree': [3], 'C':[992.67]}\n",
    "\n",
    "random_search2 = RandomizedSearchCV(\n",
    "                            SVC(kernel='poly', coef0=0.5, gamma='auto', class_weight='balanced'),\n",
    "                            param_distributions=param_set, n_iter=50, cv=5, n_jobs=-1, verbose=2\n",
    "                        )\n",
    "random_search2.fit(X_subset, y_subset)\n",
    "\n",
    "best_model2 = random_search2.best_estimator_"
   ]
  },
  {
   "cell_type": "code",
   "execution_count": 79,
   "id": "41e88b7e-a58e-4d3f-abfb-071f7e001840",
   "metadata": {},
   "outputs": [
    {
     "name": "stdout",
     "output_type": "stream",
     "text": [
      "Best cross-validation score:  0.67105\n",
      "              precision    recall  f1-score   support\n",
      "\n",
      "           0       0.97      0.65      0.78    228303\n",
      "           1       0.17      0.80      0.28     20246\n",
      "\n",
      "    accuracy                           0.66    248549\n",
      "   macro avg       0.57      0.73      0.53    248549\n",
      "weighted avg       0.91      0.66      0.74    248549\n",
      "\n"
     ]
    }
   ],
   "source": [
    "y_pred_svm_rm2 = best_model2.predict(X_train_transformed)\n",
    "print(\"Best cross-validation score: \", random_search2.best_score_)\n",
    "print(classification_report(y_train, y_pred_svm_rm2))"
   ]
  },
  {
   "cell_type": "markdown",
   "id": "8ca51e67-28d3-47fc-8c79-f8e7423d774e",
   "metadata": {},
   "source": [
    "## ## switching to random forest, not getting good results using svm"
   ]
  },
  {
   "cell_type": "code",
   "execution_count": 34,
   "id": "f8669046-7fd6-4ae3-bfcc-bcd29c8f7c23",
   "metadata": {},
   "outputs": [
    {
     "name": "stdout",
     "output_type": "stream",
     "text": [
      "Training Score :  0.651374362520529\n",
      "Testing Score :  0.6642399493064846\n"
     ]
    }
   ],
   "source": [
    "clf = RandomForestClassifier(max_depth=5, n_estimators=100, random_state=42, n_jobs=-1)\n",
    "clf.fit(X_train_resampled, y_train_resampled)\n",
    "print('Training Score : ',clf.score(X_train_resampled, y_train_resampled))\n",
    "print('Testing Score : ',clf.score(X_test_transformed, y_test))"
   ]
  },
  {
   "cell_type": "code",
   "execution_count": 35,
   "id": "8de0a73a-5c9f-49b9-ac11-e39b7afd1198",
   "metadata": {},
   "outputs": [
    {
     "name": "stdout",
     "output_type": "stream",
     "text": [
      "              precision    recall  f1-score   support\n",
      "\n",
      "           0       0.95      0.67      0.79     65230\n",
      "           1       0.14      0.60      0.23      5785\n",
      "\n",
      "    accuracy                           0.66     71015\n",
      "   macro avg       0.54      0.64      0.51     71015\n",
      "weighted avg       0.88      0.66      0.74     71015\n",
      "\n"
     ]
    }
   ],
   "source": [
    "y_pred = clf.predict(X_test_transformed)\n",
    "\n",
    "# Evaluate the classifier\n",
    "print(classification_report(y_test, y_pred))"
   ]
  },
  {
   "cell_type": "code",
   "execution_count": null,
   "id": "be62e528-a163-496f-b91a-53ef82b8d773",
   "metadata": {},
   "outputs": [],
   "source": [
    "# parameter grid\n",
    "param_dist = {\n",
    "    'n_estimators': [50, 100, 200],\n",
    "    'max_depth': [None, 10, 20, 30],\n",
    "    'min_samples_split': [2, 5, 10],\n",
    "    'min_samples_leaf': [1, 2, 4],\n",
    "    'bootstrap': [True, False]\n",
    "}\n",
    "\n",
    "# randomized Search CV\n",
    "random_search3 = RandomizedSearchCV(clf, param_distributions=param_dist, n_iter=50, cv=3, verbose=2, random_state=42, n_jobs=-1)\n",
    "random_search3.fit(X_train_resampled, y_train_resampled)"
   ]
  },
  {
   "cell_type": "code",
   "execution_count": 173,
   "id": "b134c031-2b5a-49de-9d80-6f5be9edcb53",
   "metadata": {},
   "outputs": [
    {
     "name": "stdout",
     "output_type": "stream",
     "text": [
      "Best parameters found:  {'n_estimators': 200, 'min_samples_split': 5, 'min_samples_leaf': 1, 'max_depth': 30, 'bootstrap': True}\n",
      "              precision    recall  f1-score   support\n",
      "\n",
      "         0.0       0.97      0.68      0.80     97880\n",
      "         1.0       0.18      0.80      0.30      8677\n",
      "\n",
      "    accuracy                           0.69    106557\n",
      "   macro avg       0.58      0.74      0.55    106557\n",
      "weighted avg       0.91      0.69      0.76    106557\n",
      "\n"
     ]
    }
   ],
   "source": [
    "# best parameters\n",
    "print(\"Best parameters found: \", random_search3.best_params_)\n",
    "\n",
    "# train and evaluate the best model\n",
    "best_rf_classifier = random_search3.best_estimator_\n",
    "y_pred_best = best_rf_classifier.predict(X_test_transformed)\n",
    "print(classification_report(y_test, y_pred_best))"
   ]
  },
  {
   "cell_type": "markdown",
   "id": "11d5413a-7665-43d1-aa34-719bef5ed5f7",
   "metadata": {},
   "source": [
    "## made a little change in feature space (using svd to reduce features)"
   ]
  },
  {
   "cell_type": "code",
   "execution_count": 36,
   "id": "da396ce9-cd08-43c2-93d1-acde8085bb56",
   "metadata": {},
   "outputs": [
    {
     "data": {
      "text/html": [
       "<style>#sk-container-id-1 {color: black;background-color: white;}#sk-container-id-1 pre{padding: 0;}#sk-container-id-1 div.sk-toggleable {background-color: white;}#sk-container-id-1 label.sk-toggleable__label {cursor: pointer;display: block;width: 100%;margin-bottom: 0;padding: 0.3em;box-sizing: border-box;text-align: center;}#sk-container-id-1 label.sk-toggleable__label-arrow:before {content: \"▸\";float: left;margin-right: 0.25em;color: #696969;}#sk-container-id-1 label.sk-toggleable__label-arrow:hover:before {color: black;}#sk-container-id-1 div.sk-estimator:hover label.sk-toggleable__label-arrow:before {color: black;}#sk-container-id-1 div.sk-toggleable__content {max-height: 0;max-width: 0;overflow: hidden;text-align: left;background-color: #f0f8ff;}#sk-container-id-1 div.sk-toggleable__content pre {margin: 0.2em;color: black;border-radius: 0.25em;background-color: #f0f8ff;}#sk-container-id-1 input.sk-toggleable__control:checked~div.sk-toggleable__content {max-height: 200px;max-width: 100%;overflow: auto;}#sk-container-id-1 input.sk-toggleable__control:checked~label.sk-toggleable__label-arrow:before {content: \"▾\";}#sk-container-id-1 div.sk-estimator input.sk-toggleable__control:checked~label.sk-toggleable__label {background-color: #d4ebff;}#sk-container-id-1 div.sk-label input.sk-toggleable__control:checked~label.sk-toggleable__label {background-color: #d4ebff;}#sk-container-id-1 input.sk-hidden--visually {border: 0;clip: rect(1px 1px 1px 1px);clip: rect(1px, 1px, 1px, 1px);height: 1px;margin: -1px;overflow: hidden;padding: 0;position: absolute;width: 1px;}#sk-container-id-1 div.sk-estimator {font-family: monospace;background-color: #f0f8ff;border: 1px dotted black;border-radius: 0.25em;box-sizing: border-box;margin-bottom: 0.5em;}#sk-container-id-1 div.sk-estimator:hover {background-color: #d4ebff;}#sk-container-id-1 div.sk-parallel-item::after {content: \"\";width: 100%;border-bottom: 1px solid gray;flex-grow: 1;}#sk-container-id-1 div.sk-label:hover label.sk-toggleable__label {background-color: #d4ebff;}#sk-container-id-1 div.sk-serial::before {content: \"\";position: absolute;border-left: 1px solid gray;box-sizing: border-box;top: 0;bottom: 0;left: 50%;z-index: 0;}#sk-container-id-1 div.sk-serial {display: flex;flex-direction: column;align-items: center;background-color: white;padding-right: 0.2em;padding-left: 0.2em;position: relative;}#sk-container-id-1 div.sk-item {position: relative;z-index: 1;}#sk-container-id-1 div.sk-parallel {display: flex;align-items: stretch;justify-content: center;background-color: white;position: relative;}#sk-container-id-1 div.sk-item::before, #sk-container-id-1 div.sk-parallel-item::before {content: \"\";position: absolute;border-left: 1px solid gray;box-sizing: border-box;top: 0;bottom: 0;left: 50%;z-index: -1;}#sk-container-id-1 div.sk-parallel-item {display: flex;flex-direction: column;z-index: 1;position: relative;background-color: white;}#sk-container-id-1 div.sk-parallel-item:first-child::after {align-self: flex-end;width: 50%;}#sk-container-id-1 div.sk-parallel-item:last-child::after {align-self: flex-start;width: 50%;}#sk-container-id-1 div.sk-parallel-item:only-child::after {width: 0;}#sk-container-id-1 div.sk-dashed-wrapped {border: 1px dashed gray;margin: 0 0.4em 0.5em 0.4em;box-sizing: border-box;padding-bottom: 0.4em;background-color: white;}#sk-container-id-1 div.sk-label label {font-family: monospace;font-weight: bold;display: inline-block;line-height: 1.2em;}#sk-container-id-1 div.sk-label-container {text-align: center;}#sk-container-id-1 div.sk-container {/* jupyter's `normalize.less` sets `[hidden] { display: none; }` but bootstrap.min.css set `[hidden] { display: none !important; }` so we also need the `!important` here to be able to override the default hidden behavior on the sphinx rendered scikit-learn.org. See: https://github.com/scikit-learn/scikit-learn/issues/21755 */display: inline-block !important;position: relative;}#sk-container-id-1 div.sk-text-repr-fallback {display: none;}</style><div id=\"sk-container-id-1\" class=\"sk-top-container\"><div class=\"sk-text-repr-fallback\"><pre>RandomForestClassifier(class_weight=&#x27;balanced&#x27;, max_depth=30,\n",
       "                       min_samples_split=5, n_estimators=200)</pre><b>In a Jupyter environment, please rerun this cell to show the HTML representation or trust the notebook. <br />On GitHub, the HTML representation is unable to render, please try loading this page with nbviewer.org.</b></div><div class=\"sk-container\" hidden><div class=\"sk-item\"><div class=\"sk-estimator sk-toggleable\"><input class=\"sk-toggleable__control sk-hidden--visually\" id=\"sk-estimator-id-1\" type=\"checkbox\" checked><label for=\"sk-estimator-id-1\" class=\"sk-toggleable__label sk-toggleable__label-arrow\">RandomForestClassifier</label><div class=\"sk-toggleable__content\"><pre>RandomForestClassifier(class_weight=&#x27;balanced&#x27;, max_depth=30,\n",
       "                       min_samples_split=5, n_estimators=200)</pre></div></div></div></div></div>"
      ],
      "text/plain": [
       "RandomForestClassifier(class_weight='balanced', max_depth=30,\n",
       "                       min_samples_split=5, n_estimators=200)"
      ]
     },
     "execution_count": 36,
     "metadata": {},
     "output_type": "execute_result"
    }
   ],
   "source": [
    "rf = RandomForestClassifier(n_estimators=200, min_samples_split=5, min_samples_leaf=1, max_depth=30, bootstrap=True, class_weight='balanced')\n",
    "rf.fit(X_train_reduced, y_train)"
   ]
  },
  {
   "cell_type": "code",
   "execution_count": 37,
   "id": "5c96adbf-5b7c-4d2c-873e-83dae276a41e",
   "metadata": {},
   "outputs": [
    {
     "name": "stdout",
     "output_type": "stream",
     "text": [
      "              precision    recall  f1-score   support\n",
      "\n",
      "           0       0.92      0.99      0.96     65230\n",
      "           1       0.33      0.03      0.05      5785\n",
      "\n",
      "    accuracy                           0.92     71015\n",
      "   macro avg       0.63      0.51      0.51     71015\n",
      "weighted avg       0.87      0.92      0.88     71015\n",
      "\n"
     ]
    }
   ],
   "source": [
    "y_pred_best2 = rf.predict(X_test_reduced)\n",
    "print(classification_report(y_test, y_pred_best2))"
   ]
  },
  {
   "cell_type": "code",
   "execution_count": 38,
   "id": "3619277c-e0a1-41b4-88c6-faec8c6fa7ba",
   "metadata": {},
   "outputs": [
    {
     "name": "stdout",
     "output_type": "stream",
     "text": [
      "Accuracy: 0.9161303949869746\n"
     ]
    }
   ],
   "source": [
    "print(f\"Accuracy: {accuracy_score(y_test, y_pred_best2)}\")\n"
   ]
  },
  {
   "cell_type": "code",
   "execution_count": 39,
   "id": "7974cae2-af51-4047-a679-f09066ce8a36",
   "metadata": {},
   "outputs": [
    {
     "data": {
      "image/png": "[encoded data removed]",
      "text/plain": [
       "<Figure size 640x480 with 2 Axes>"
      ]
     },
     "metadata": {},
     "output_type": "display_data"
    }
   ],
   "source": [
    "cm = confusion_matrix(y_test, y_pred_best2)\n",
    "disp = ConfusionMatrixDisplay(confusion_matrix=cm)\n",
    "disp.plot()\n",
    "plt.show()\n"
   ]
  },
  {
   "cell_type": "markdown",
   "id": "f12f6066-0f3f-45cf-abe4-57513e41db1f",
   "metadata": {},
   "source": [
    "### till now, we have managed to increase precision to 0.33 for class 1 which was around 0.1 in earlier models. though, it's still low but atleast we got some improvemnt. Next step may include analysing misclassifications and perform more precise feature generalization"
   ]
  },
  {
   "cell_type": "markdown",
   "id": "d27dc8ce-15f2-4bb0-aba4-eb95ef788c10",
   "metadata": {},
   "source": [
    "## Deployment"
   ]
  },
  {
   "cell_type": "code",
   "execution_count": 40,
   "id": "aaa23ca2-fb24-4274-8362-7d8dd74b9434",
   "metadata": {},
   "outputs": [],
   "source": [
    "import dill\n",
    "\n",
    "#final model\n",
    "with open('model.pkl', 'wb') as file:\n",
    "    dill.dump(rf, file)"
   ]
  },
  {
   "cell_type": "code",
   "execution_count": 44,
   "id": "72f366cd-d77b-4ca6-bfca-ca274021b72a",
   "metadata": {},
   "outputs": [],
   "source": [
    "# final pre-processing to use during deployment\n",
    "with open('preprocessor.pkl', 'wb') as f:\n",
    "    dill.dump(preprocessor, f)\n",
    "with open('scaler.pkl', 'wb') as f:\n",
    "    dill.dump(ct, f)\n",
    "with open('svd.pkl', 'wb') as f:\n",
    "    dill.dump(svd, f)"
   ]
  },
  {
   "cell_type": "code",
   "execution_count": null,
   "id": "505f6e62-42a9-4daf-b8e1-768986a6586a",
   "metadata": {},
   "outputs": [],
   "source": []
  }
 ],
 "metadata": {
  "colab": {
   "provenance": []
  },
  "kernelspec": {
   "display_name": "Python 3 (ipykernel)",
   "language": "python",
   "name": "python3"
  },
  "language_info": {
   "codemirror_mode": {
    "name": "ipython",
    "version": 3
   },
   "file_extension": ".py",
   "mimetype": "text/x-python",
   "name": "python",
   "nbconvert_exporter": "python",
   "pygments_lexer": "ipython3",
   "version": "3.11.7"
  }
 },
 "nbformat": 4,
 "nbformat_minor": 5
}
